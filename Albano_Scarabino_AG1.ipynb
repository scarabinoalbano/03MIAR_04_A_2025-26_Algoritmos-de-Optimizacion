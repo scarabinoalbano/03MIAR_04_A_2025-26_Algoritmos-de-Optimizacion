{
  "nbformat": 4,
  "nbformat_minor": 0,
  "metadata": {
    "colab": {
      "provenance": [],
      "include_colab_link": true
    },
    "kernelspec": {
      "name": "python3",
      "display_name": "Python 3"
    }
  },
  "cells": [
    {
      "cell_type": "markdown",
      "metadata": {
        "id": "view-in-github",
        "colab_type": "text"
      },
      "source": [
        "<a href=\"https://colab.research.google.com/github/scarabinoalbano/Algoritmos/blob/main/Albano_Scarabino_AG1.ipynb\" target=\"_parent\"><img src=\"https://colab.research.google.com/assets/colab-badge.svg\" alt=\"Open In Colab\"/></a>"
      ]
    },
    {
      "cell_type": "markdown",
      "metadata": {
        "id": "kQn6fbhgtH9I"
      },
      "source": [
        "#Algoritmos - Actividad Guiada 1\n",
        "\n",
        "Nombre: Albano Andrés Scarabino\n",
        "\n",
        "URL: https://colab.research.google.com/drive/1REvu4C2qw8H6wTOig07iwDgAm-zwdeHi?usp=sharing\n",
        "\n",
        "https://github.com/scarabinoalbano/Algoritmos/blob/main/Albano_Scarabino_AG1.ipynb\n"
      ]
    },
    {
      "cell_type": "markdown",
      "metadata": {
        "id": "_t62Ge7ZuKnC"
      },
      "source": [
        "##Torres de Hanoi con Divide y vencerás"
      ]
    },
    {
      "cell_type": "markdown",
      "source": [
        "#### Solución original"
      ],
      "metadata": {
        "id": "1iBZnQz9f7f6"
      }
    },
    {
      "cell_type": "code",
      "metadata": {
        "colab": {
          "base_uri": "https://localhost:8080/"
        },
        "id": "i32G0CUQvauE",
        "outputId": "884806eb-398e-4ddf-96ee-c285f38e7594"
      },
      "source": [
        "def Torres_Hanoi(N, desde, hasta):\n",
        "  if N ==1 :\n",
        "    print(\"Lleva la ficha \" ,desde , \" hasta \", hasta )\n",
        "\n",
        "  else:\n",
        "    #Torres_Hanoi(N-1, desde, 6-desde-hasta )\n",
        "    Torres_Hanoi(N-1, desde, 6-desde-hasta )\n",
        "    print(\"Lleva la ficha \" ,desde , \" hasta \", hasta )\n",
        "    #Torres_Hanoi(N-1,6-desde-hasta, hasta )\n",
        "    Torres_Hanoi(N-1, 6-desde-hasta  , hasta )\n",
        "\n",
        "\n",
        "Torres_Hanoi(3, 1 , 3)"
      ],
      "execution_count": 1,
      "outputs": [
        {
          "output_type": "stream",
          "name": "stdout",
          "text": [
            "Lleva la ficha  1  hasta  3\n",
            "Lleva la ficha  1  hasta  2\n",
            "Lleva la ficha  3  hasta  2\n",
            "Lleva la ficha  1  hasta  3\n",
            "Lleva la ficha  2  hasta  1\n",
            "Lleva la ficha  2  hasta  3\n",
            "Lleva la ficha  1  hasta  3\n"
          ]
        }
      ]
    },
    {
      "cell_type": "markdown",
      "source": [
        "#### Solución con visualización mejorada\n",
        "\n"
      ],
      "metadata": {
        "id": "3oNOQA0gf-t6"
      }
    },
    {
      "cell_type": "code",
      "source": [
        "from IPython.display import clear_output\n",
        "import time\n",
        "\n",
        "def mostrar_torres(torres):\n",
        "    clear_output(wait=True)\n",
        "    print(\"Torres de Hanoi:\")\n",
        "    for i in range(1, 4):\n",
        "        print(f\"Torre {i}: {torres[i]}\")\n",
        "    time.sleep(0.5)\n",
        "\n",
        "def Torres_Hanoi(N, desde, hasta, torres):\n",
        "    if N == 1:\n",
        "        ficha = torres[desde].pop()\n",
        "        torres[hasta].append(ficha)\n",
        "        mostrar_torres(torres)\n",
        "    else:\n",
        "        auxiliar = 6 - desde - hasta\n",
        "        Torres_Hanoi(N - 1, desde, auxiliar, torres)\n",
        "        Torres_Hanoi(1, desde, hasta, torres)\n",
        "        Torres_Hanoi(N - 1, auxiliar, hasta, torres)\n",
        "\n",
        "n_fichas = 3\n",
        "torres = {\n",
        "    1: list(reversed(range(1, n_fichas + 1))),\n",
        "    2: [],\n",
        "    3: []\n",
        "}\n",
        "\n",
        "mostrar_torres(torres)\n",
        "Torres_Hanoi(n_fichas, 1, 3, torres)"
      ],
      "metadata": {
        "colab": {
          "base_uri": "https://localhost:8080/"
        },
        "id": "YEJw9_ehgFnK",
        "outputId": "b11bc972-ad78-487c-bf72-604d04b001a7"
      },
      "execution_count": 2,
      "outputs": [
        {
          "output_type": "stream",
          "name": "stdout",
          "text": [
            "Torres de Hanoi:\n",
            "Torre 1: []\n",
            "Torre 2: []\n",
            "Torre 3: [3, 2, 1]\n"
          ]
        }
      ]
    },
    {
      "cell_type": "markdown",
      "source": [
        "##Sucesión de Fibonacci"
      ],
      "metadata": {
        "id": "srLDoti9fz0i"
      }
    },
    {
      "cell_type": "markdown",
      "source": [
        "#### Solución original"
      ],
      "metadata": {
        "id": "fYsYcxf4gSAT"
      }
    },
    {
      "cell_type": "code",
      "metadata": {
        "colab": {
          "base_uri": "https://localhost:8080/"
        },
        "id": "74qZZAekiNYR",
        "outputId": "788545d6-9ddb-4139-85f9-f34bedb6d6f0"
      },
      "source": [
        "#Sucesión_de_Fibonacci\n",
        "#https://es.wikipedia.org/wiki/Sucesi%C3%B3n_de_Fibonacci\n",
        "#Calculo del termino n-simo de la suscesión de Fibonacci\n",
        "def Fibonacci(N:int):\n",
        "  if N < 2:\n",
        "    return 1\n",
        "  else:\n",
        "    return Fibonacci(N-1)+Fibonacci(N-2)\n",
        "\n",
        "Fibonacci(15)"
      ],
      "execution_count": 3,
      "outputs": [
        {
          "output_type": "execute_result",
          "data": {
            "text/plain": [
              "987"
            ]
          },
          "metadata": {},
          "execution_count": 3
        }
      ]
    },
    {
      "cell_type": "markdown",
      "source": [
        "#### Solución con Binet"
      ],
      "metadata": {
        "id": "LQ81ZDCEgTD-"
      }
    },
    {
      "cell_type": "code",
      "source": [
        "import math\n",
        "\n",
        "def Fibonacci_Binet(N: int):\n",
        "    N += 1\n",
        "    sqrt_5 = math.sqrt(5)\n",
        "    phi = (1 + sqrt_5) / 2\n",
        "    psi = (1 - sqrt_5) / 2\n",
        "    return round((phi**N - psi**N) / sqrt_5)\n",
        "\n",
        "Fibonacci_Binet(15)"
      ],
      "metadata": {
        "colab": {
          "base_uri": "https://localhost:8080/"
        },
        "id": "pW3NyVmcgo5z",
        "outputId": "98796483-007a-490a-9c1b-26db047c9990"
      },
      "execution_count": 4,
      "outputs": [
        {
          "output_type": "execute_result",
          "data": {
            "text/plain": [
              "987"
            ]
          },
          "metadata": {},
          "execution_count": 4
        }
      ]
    },
    {
      "cell_type": "markdown",
      "metadata": {
        "id": "RgT5XJsZ429L"
      },
      "source": [
        "##Devolución de cambio por técnica voraz"
      ]
    },
    {
      "cell_type": "markdown",
      "source": [
        "#### Solución original"
      ],
      "metadata": {
        "id": "SrMF7VdVhSG4"
      }
    },
    {
      "cell_type": "code",
      "metadata": {
        "id": "uJtftBLU4-ap",
        "colab": {
          "base_uri": "https://localhost:8080/"
        },
        "outputId": "62bad355-1127-4198-ce30-a703ae65fae9"
      },
      "source": [
        "def cambio_monedas(N, SM):\n",
        "  SOLUCION = [0]*len(SM)   #SOLUCION = [0,0,0,0,..]\n",
        "  ValorAcumulado = 0\n",
        "\n",
        "  for i,valor in enumerate(SM):\n",
        "    monedas =  (N-ValorAcumulado)//valor\n",
        "    SOLUCION[i] = monedas\n",
        "    ValorAcumulado = ValorAcumulado + monedas*valor\n",
        "\n",
        "    if ValorAcumulado == N:\n",
        "      return SOLUCION\n",
        "\n",
        "\n",
        "cambio_monedas(15,[25,10,5,1])"
      ],
      "execution_count": 5,
      "outputs": [
        {
          "output_type": "execute_result",
          "data": {
            "text/plain": [
              "[0, 1, 1, 0]"
            ]
          },
          "metadata": {},
          "execution_count": 5
        }
      ]
    },
    {
      "cell_type": "markdown",
      "source": [
        "#### Solución con visualización mejorada"
      ],
      "metadata": {
        "id": "tf37UAnehUfe"
      }
    },
    {
      "cell_type": "code",
      "source": [
        "def cambio_monedas_visual(monto_total, denominaciones):\n",
        "    solucion = [0] * len(denominaciones)\n",
        "    acumulado = 0\n",
        "\n",
        "    print(f\"\\nCambiar {monto_total} usando monedas: {denominaciones}\\n\")\n",
        "    print(f\"{'Moneda':>10} | {'Cantidad usada':>15} | {'Monto parcial':>15}\")\n",
        "    print(\"-\" * 45)\n",
        "\n",
        "    for i, valor_moneda in enumerate(denominaciones):\n",
        "        cantidad = (monto_total - acumulado) // valor_moneda\n",
        "        solucion[i] = cantidad\n",
        "        acumulado += cantidad * valor_moneda\n",
        "\n",
        "        print(f\"{valor_moneda:>10} | {cantidad:>15} | {acumulado:>15}\")\n",
        "\n",
        "        if acumulado == monto_total:\n",
        "            break\n",
        "\n",
        "    return solucion\n",
        "\n",
        "cambio_monedas_visual(15,[25,10,5,1])"
      ],
      "metadata": {
        "colab": {
          "base_uri": "https://localhost:8080/"
        },
        "id": "Xemye3s7haNP",
        "outputId": "16ed428b-fe9c-4e64-af0a-4c56db65d18c"
      },
      "execution_count": 6,
      "outputs": [
        {
          "output_type": "stream",
          "name": "stdout",
          "text": [
            "\n",
            "Cambiar 15 usando monedas: [25, 10, 5, 1]\n",
            "\n",
            "    Moneda |  Cantidad usada |   Monto parcial\n",
            "---------------------------------------------\n",
            "        25 |               0 |               0\n",
            "        10 |               1 |              10\n",
            "         5 |               1 |              15\n"
          ]
        },
        {
          "output_type": "execute_result",
          "data": {
            "text/plain": [
              "[0, 1, 1, 0]"
            ]
          },
          "metadata": {},
          "execution_count": 6
        }
      ]
    },
    {
      "cell_type": "markdown",
      "source": [
        "#### Solucion Voraz vs. Solución Dinámica: Comparación de tiempos y resultados para valores no canónicos"
      ],
      "metadata": {
        "id": "sMAymrXG4_mw"
      }
    },
    {
      "cell_type": "code",
      "source": [
        "import time\n",
        "\n",
        "def cambio_voraz(N, SM):\n",
        "    solucion = [0]*len(SM)\n",
        "    acumulado = 0\n",
        "    for i, valor in enumerate(SM):\n",
        "        monedas = (N - acumulado) // valor\n",
        "        solucion[i] = monedas\n",
        "        acumulado += monedas * valor\n",
        "        if acumulado == N:\n",
        "            return solucion\n",
        "    return solucion\n",
        "\n",
        "def cambio_dinamico(N, SM):\n",
        "    dp = [float('inf')] * (N + 1)\n",
        "    dp[0] = 0\n",
        "    last = [-1] * (N + 1)\n",
        "    for i in range(1, N + 1):\n",
        "        for j, moneda in enumerate(SM):\n",
        "            if moneda <= i and dp[i - moneda] + 1 < dp[i]:\n",
        "                dp[i] = dp[i - moneda] + 1\n",
        "                last[i] = j\n",
        "    if dp[N] == float('inf'):\n",
        "        return -1\n",
        "    solucion = [0] * len(SM)\n",
        "    x = N\n",
        "    while x > 0:\n",
        "        idx = last[x]\n",
        "        solucion[idx] += 1\n",
        "        x -= SM[idx]\n",
        "    return solucion\n",
        "\n",
        "def comparar_algoritmos(N, SM):\n",
        "    print(f\"\\nComparando para N = {N}, monedas = {SM}\")\n",
        "\n",
        "    # Voraz\n",
        "    t0 = time.time()\n",
        "    res_voraz = cambio_voraz(N, SM)\n",
        "    t1 = time.time()\n",
        "    tiempo_voraz = t1 - t0\n",
        "\n",
        "    # Dinámico\n",
        "    t2 = time.time()\n",
        "    res_dinamico = cambio_dinamico(N, SM)\n",
        "    t3 = time.time()\n",
        "    tiempo_dinamico = t3 - t2\n",
        "\n",
        "    # Resultados\n",
        "    print(f\"Voraz     > {res_voraz}   en {tiempo_voraz:.6f} segundos\")\n",
        "    print(f\"Dinámico  > {res_dinamico}   en {tiempo_dinamico:.6f} segundos\")\n",
        "\n",
        "    # Comparación de calidad\n",
        "    suma_v = sum(res_voraz)\n",
        "    suma_d = sum(res_dinamico)\n",
        "    if suma_v > suma_d:\n",
        "        print(\"Voraz no dio solución óptima.\")\n",
        "    elif suma_v == suma_d:\n",
        "        print(\"Ambos dieron solución óptima.\")\n",
        "    else:\n",
        "        print(\"Algo anda mal: voraz encontró mejor solución que dinámica.\")\n",
        "\n",
        "# Caso 1: sistema canónico\n",
        "comparar_algoritmos(63, [25, 10, 5, 1])\n",
        "\n",
        "# Caso 2: sistema no canónico\n",
        "comparar_algoritmos(6, [4, 3, 1])\n"
      ],
      "metadata": {
        "colab": {
          "base_uri": "https://localhost:8080/"
        },
        "id": "iDhun2KN5HtS",
        "outputId": "1fec12ff-921f-442c-dab2-cdbe33a39d2e"
      },
      "execution_count": 7,
      "outputs": [
        {
          "output_type": "stream",
          "name": "stdout",
          "text": [
            "\n",
            "Comparando para N = 63, monedas = [25, 10, 5, 1]\n",
            "Voraz     > [2, 1, 0, 3]   en 0.000009 segundos\n",
            "Dinámico  > [2, 1, 0, 3]   en 0.000062 segundos\n",
            "Ambos dieron solución óptima.\n",
            "\n",
            "Comparando para N = 6, monedas = [4, 3, 1]\n",
            "Voraz     > [1, 0, 2]   en 0.000004 segundos\n",
            "Dinámico  > [0, 2, 0]   en 0.000012 segundos\n",
            "Voraz no dio solución óptima.\n"
          ]
        }
      ]
    },
    {
      "cell_type": "markdown",
      "metadata": {
        "id": "g8M9GTvy_Fa3"
      },
      "source": [
        "## N-Reinas por técnica de vuelta atrás\n"
      ]
    },
    {
      "cell_type": "markdown",
      "source": [
        "#### Solución original"
      ],
      "metadata": {
        "id": "x4vWUWre6s_O"
      }
    },
    {
      "cell_type": "code",
      "metadata": {
        "id": "FqOPyCmv_K65",
        "colab": {
          "base_uri": "https://localhost:8080/"
        },
        "outputId": "06ad7d31-c1a4-4742-fdf1-17afc54897a0"
      },
      "source": [
        "def escribe(S):\n",
        "  n = len(S)\n",
        "  for x in range(n):\n",
        "    print(\"\")\n",
        "    for i in range(n):\n",
        "      if S[i] == x+1:\n",
        "        print(\" X \" , end=\"\")\n",
        "      else:\n",
        "        print(\" - \", end=\"\")\n",
        "\n",
        "\n",
        "def es_prometedora(SOLUCION,etapa):\n",
        "  #print(SOLUCION)\n",
        "  #Si la solución tiene dos valores iguales no es valida => Dos reinas en la misma fila\n",
        "  for i in range(etapa+1):\n",
        "    #print(\"El valor \" + str(SOLUCION[i]) + \" está \" +  str(SOLUCION.count(SOLUCION[i])) + \" veces\")\n",
        "    if SOLUCION.count(SOLUCION[i]) > 1:\n",
        "      return False\n",
        "\n",
        "    #Verifica las diagonales\n",
        "    for j in range(i+1, etapa +1 ):\n",
        "      #print(\"Comprobando diagonal de \" + str(i) + \" y \" + str(j))\n",
        "      if abs(i-j) == abs(SOLUCION[i]-SOLUCION[j]) : return False\n",
        "  return True\n",
        "\n",
        "\n",
        "\n",
        "def reinas(N, solucion=[], etapa=0):\n",
        "  if len(solucion) == 0:\n",
        "      solucion=[0 for i in range(N)]\n",
        "\n",
        "  for i in range(1, N+1):\n",
        "    solucion[etapa] = i\n",
        "\n",
        "    if es_prometedora(solucion, etapa):\n",
        "      if etapa == N-1:\n",
        "        print(solucion)\n",
        "        #escribe(solucion)\n",
        "        print()\n",
        "      else:\n",
        "        reinas(N, solucion, etapa+1)\n",
        "    else:\n",
        "      None\n",
        "\n",
        "    solucion[etapa] = 0\n",
        "\n",
        "reinas(4)"
      ],
      "execution_count": 8,
      "outputs": [
        {
          "output_type": "stream",
          "name": "stdout",
          "text": [
            "[2, 4, 1, 3]\n",
            "\n",
            "[3, 1, 4, 2]\n",
            "\n"
          ]
        }
      ]
    },
    {
      "cell_type": "markdown",
      "source": [
        "#### Solución con visualización mejorada"
      ],
      "metadata": {
        "id": "6ClO-5p164h2"
      }
    },
    {
      "cell_type": "code",
      "source": [
        "import time\n",
        "\n",
        "def escribe(S):\n",
        "  n = len(S)\n",
        "  for x in range(n):\n",
        "    print(\"\")\n",
        "    for i in range(n):\n",
        "      if S[i] == x+1:\n",
        "        print(\" X \" , end=\"\")\n",
        "      else:\n",
        "        print(\" - \", end=\"\")\n",
        "  time.sleep(0.25)\n",
        "  print()\n",
        "\n",
        "def es_prometedora(SOLUCION,etapa):\n",
        "  for i in range(etapa+1):\n",
        "    if SOLUCION.count(SOLUCION[i]) > 1:\n",
        "      return False\n",
        "    for j in range(i+1, etapa +1 ):\n",
        "      if abs(i-j) == abs(SOLUCION[i]-SOLUCION[j]) : return False\n",
        "  return True\n",
        "\n",
        "def reinas(N, solucion=[], etapa=0):\n",
        "  if len(solucion) == 0:\n",
        "      solucion=[0 for i in range(N)]\n",
        "\n",
        "  for i in range(1, N+1):\n",
        "    solucion[etapa] = i\n",
        "\n",
        "    if es_prometedora(solucion, etapa):\n",
        "      if etapa == N-1:\n",
        "        print('\\n Solución:', solucion)\n",
        "        escribe(solucion)\n",
        "      else:\n",
        "        escribe(solucion)\n",
        "        reinas(N, solucion, etapa+1)\n",
        "    else:\n",
        "      escribe(solucion)\n",
        "      None\n",
        "\n",
        "    solucion[etapa] = 0\n",
        "\n",
        "reinas(4)"
      ],
      "metadata": {
        "colab": {
          "base_uri": "https://localhost:8080/"
        },
        "id": "ps2gFJhz67mW",
        "outputId": "10c7cb1e-f7d4-4af9-8815-0dafe736dbd1"
      },
      "execution_count": 9,
      "outputs": [
        {
          "output_type": "stream",
          "name": "stdout",
          "text": [
            "\n",
            " X  -  -  - \n",
            " -  -  -  - \n",
            " -  -  -  - \n",
            " -  -  -  - \n",
            "\n",
            " X  X  -  - \n",
            " -  -  -  - \n",
            " -  -  -  - \n",
            " -  -  -  - \n",
            "\n",
            " X  -  -  - \n",
            " -  X  -  - \n",
            " -  -  -  - \n",
            " -  -  -  - \n",
            "\n",
            " X  -  -  - \n",
            " -  -  -  - \n",
            " -  X  -  - \n",
            " -  -  -  - \n",
            "\n",
            " X  -  X  - \n",
            " -  -  -  - \n",
            " -  X  -  - \n",
            " -  -  -  - \n",
            "\n",
            " X  -  -  - \n",
            " -  -  X  - \n",
            " -  X  -  - \n",
            " -  -  -  - \n",
            "\n",
            " X  -  -  - \n",
            " -  -  -  - \n",
            " -  X  X  - \n",
            " -  -  -  - \n",
            "\n",
            " X  -  -  - \n",
            " -  -  -  - \n",
            " -  X  -  - \n",
            " -  -  X  - \n",
            "\n",
            " X  -  -  - \n",
            " -  -  -  - \n",
            " -  -  -  - \n",
            " -  X  -  - \n",
            "\n",
            " X  -  X  - \n",
            " -  -  -  - \n",
            " -  -  -  - \n",
            " -  X  -  - \n",
            "\n",
            " X  -  -  - \n",
            " -  -  X  - \n",
            " -  -  -  - \n",
            " -  X  -  - \n",
            "\n",
            " X  -  -  X \n",
            " -  -  X  - \n",
            " -  -  -  - \n",
            " -  X  -  - \n",
            "\n",
            " X  -  -  - \n",
            " -  -  X  X \n",
            " -  -  -  - \n",
            " -  X  -  - \n",
            "\n",
            " X  -  -  - \n",
            " -  -  X  - \n",
            " -  -  -  X \n",
            " -  X  -  - \n",
            "\n",
            " X  -  -  - \n",
            " -  -  X  - \n",
            " -  -  -  - \n",
            " -  X  -  X \n",
            "\n",
            " X  -  -  - \n",
            " -  -  -  - \n",
            " -  -  X  - \n",
            " -  X  -  - \n",
            "\n",
            " X  -  -  - \n",
            " -  -  -  - \n",
            " -  -  -  - \n",
            " -  X  X  - \n",
            "\n",
            " -  -  -  - \n",
            " X  -  -  - \n",
            " -  -  -  - \n",
            " -  -  -  - \n",
            "\n",
            " -  X  -  - \n",
            " X  -  -  - \n",
            " -  -  -  - \n",
            " -  -  -  - \n",
            "\n",
            " -  -  -  - \n",
            " X  X  -  - \n",
            " -  -  -  - \n",
            " -  -  -  - \n",
            "\n",
            " -  -  -  - \n",
            " X  -  -  - \n",
            " -  X  -  - \n",
            " -  -  -  - \n",
            "\n",
            " -  -  -  - \n",
            " X  -  -  - \n",
            " -  -  -  - \n",
            " -  X  -  - \n",
            "\n",
            " -  -  X  - \n",
            " X  -  -  - \n",
            " -  -  -  - \n",
            " -  X  -  - \n",
            "\n",
            " -  -  X  X \n",
            " X  -  -  - \n",
            " -  -  -  - \n",
            " -  X  -  - \n",
            "\n",
            " -  -  X  - \n",
            " X  -  -  X \n",
            " -  -  -  - \n",
            " -  X  -  - \n",
            "\n",
            " Solución: [2, 4, 1, 3]\n",
            "\n",
            " -  -  X  - \n",
            " X  -  -  - \n",
            " -  -  -  X \n",
            " -  X  -  - \n",
            "\n",
            " -  -  X  - \n",
            " X  -  -  - \n",
            " -  -  -  - \n",
            " -  X  -  X \n",
            "\n",
            " -  -  -  - \n",
            " X  -  X  - \n",
            " -  -  -  - \n",
            " -  X  -  - \n",
            "\n",
            " -  -  -  - \n",
            " X  -  -  - \n",
            " -  -  X  - \n",
            " -  X  -  - \n",
            "\n",
            " -  -  -  - \n",
            " X  -  -  - \n",
            " -  -  -  - \n",
            " -  X  X  - \n",
            "\n",
            " -  -  -  - \n",
            " -  -  -  - \n",
            " X  -  -  - \n",
            " -  -  -  - \n",
            "\n",
            " -  X  -  - \n",
            " -  -  -  - \n",
            " X  -  -  - \n",
            " -  -  -  - \n",
            "\n",
            " -  X  X  - \n",
            " -  -  -  - \n",
            " X  -  -  - \n",
            " -  -  -  - \n",
            "\n",
            " -  X  -  - \n",
            " -  -  X  - \n",
            " X  -  -  - \n",
            " -  -  -  - \n",
            "\n",
            " -  X  -  - \n",
            " -  -  -  - \n",
            " X  -  X  - \n",
            " -  -  -  - \n",
            "\n",
            " -  X  -  - \n",
            " -  -  -  - \n",
            " X  -  -  - \n",
            " -  -  X  - \n",
            "\n",
            " -  X  -  X \n",
            " -  -  -  - \n",
            " X  -  -  - \n",
            " -  -  X  - \n",
            "\n",
            " Solución: [3, 1, 4, 2]\n",
            "\n",
            " -  X  -  - \n",
            " -  -  -  X \n",
            " X  -  -  - \n",
            " -  -  X  - \n",
            "\n",
            " -  X  -  - \n",
            " -  -  -  - \n",
            " X  -  -  X \n",
            " -  -  X  - \n",
            "\n",
            " -  X  -  - \n",
            " -  -  -  - \n",
            " X  -  -  - \n",
            " -  -  X  X \n",
            "\n",
            " -  -  -  - \n",
            " -  X  -  - \n",
            " X  -  -  - \n",
            " -  -  -  - \n",
            "\n",
            " -  -  -  - \n",
            " -  -  -  - \n",
            " X  X  -  - \n",
            " -  -  -  - \n",
            "\n",
            " -  -  -  - \n",
            " -  -  -  - \n",
            " X  -  -  - \n",
            " -  X  -  - \n",
            "\n",
            " -  -  -  - \n",
            " -  -  -  - \n",
            " -  -  -  - \n",
            " X  -  -  - \n",
            "\n",
            " -  X  -  - \n",
            " -  -  -  - \n",
            " -  -  -  - \n",
            " X  -  -  - \n",
            "\n",
            " -  X  X  - \n",
            " -  -  -  - \n",
            " -  -  -  - \n",
            " X  -  -  - \n",
            "\n",
            " -  X  -  - \n",
            " -  -  X  - \n",
            " -  -  -  - \n",
            " X  -  -  - \n",
            "\n",
            " -  X  -  - \n",
            " -  -  -  - \n",
            " -  -  X  - \n",
            " X  -  -  - \n",
            "\n",
            " -  X  -  X \n",
            " -  -  -  - \n",
            " -  -  X  - \n",
            " X  -  -  - \n",
            "\n",
            " -  X  -  - \n",
            " -  -  -  X \n",
            " -  -  X  - \n",
            " X  -  -  - \n",
            "\n",
            " -  X  -  - \n",
            " -  -  -  - \n",
            " -  -  X  X \n",
            " X  -  -  - \n",
            "\n",
            " -  X  -  - \n",
            " -  -  -  - \n",
            " -  -  X  - \n",
            " X  -  -  X \n",
            "\n",
            " -  X  -  - \n",
            " -  -  -  - \n",
            " -  -  -  - \n",
            " X  -  X  - \n",
            "\n",
            " -  -  -  - \n",
            " -  X  -  - \n",
            " -  -  -  - \n",
            " X  -  -  - \n",
            "\n",
            " -  -  X  - \n",
            " -  X  -  - \n",
            " -  -  -  - \n",
            " X  -  -  - \n",
            "\n",
            " -  -  -  - \n",
            " -  X  X  - \n",
            " -  -  -  - \n",
            " X  -  -  - \n",
            "\n",
            " -  -  -  - \n",
            " -  X  -  - \n",
            " -  -  X  - \n",
            " X  -  -  - \n",
            "\n",
            " -  -  -  - \n",
            " -  X  -  - \n",
            " -  -  -  - \n",
            " X  -  X  - \n",
            "\n",
            " -  -  -  - \n",
            " -  -  -  - \n",
            " -  X  -  - \n",
            " X  -  -  - \n",
            "\n",
            " -  -  -  - \n",
            " -  -  -  - \n",
            " -  -  -  - \n",
            " X  X  -  - \n"
          ]
        }
      ]
    },
    {
      "cell_type": "markdown",
      "source": [
        "## Viaje por el rio. Programación dinámica"
      ],
      "metadata": {
        "id": "p1VZhNzjUfiy"
      }
    },
    {
      "cell_type": "markdown",
      "source": [
        "#### Solución original"
      ],
      "metadata": {
        "id": "HOP62Z1E90YG"
      }
    },
    {
      "cell_type": "code",
      "source": [
        "TARIFAS = [\n",
        "[0,5,4,3,999,999,999],\n",
        "[999,0,999,2,3,999,11],\n",
        "[999,999, 0,1,999,4,10],\n",
        "[999,999,999, 0,5,6,9],\n",
        "[999,999, 999,999,0,999,4],\n",
        "[999,999, 999,999,999,0,3],\n",
        "[999,999,999,999,999,999,0]\n",
        "]\n",
        "\n",
        "\n",
        "\n",
        "################################################################\n",
        "def Precios(TARIFAS):\n",
        "################################################################\n",
        "  #Total de Nodos\n",
        "  N = len(TARIFAS[0])\n",
        "\n",
        "  #Inicialización de la tabla de precios\n",
        "  PRECIOS = [ [9999]*N for i in [9999]*N]\n",
        "  RUTA = [ [\"\"]*N for i in [\"\"]*N]\n",
        "\n",
        "  for i in range(0,N-1):\n",
        "    RUTA[i][i] = i             #Para ir de i a i se \"pasa por i\"\n",
        "    PRECIOS[i][i] = 0          #Para ir de i a i se se paga 0\n",
        "    for j in range(i+1, N):\n",
        "      MIN = TARIFAS[i][j]\n",
        "      RUTA[i][j] = i\n",
        "\n",
        "      for k in range(i, j):\n",
        "        if PRECIOS[i][k] + TARIFAS[k][j] < MIN:\n",
        "            MIN = min(MIN, PRECIOS[i][k] + TARIFAS[k][j] )\n",
        "            RUTA[i][j] = k          #Anota que para ir de i a j hay que pasar por k\n",
        "        PRECIOS[i][j] = MIN\n",
        "\n",
        "  return PRECIOS,RUTA\n",
        "################################################################\n",
        "\n",
        "\n",
        "PRECIOS,RUTA = Precios(TARIFAS)\n",
        "#print(PRECIOS[0][6])\n",
        "\n",
        "print(\"PRECIOS\")\n",
        "for i in range(len(TARIFAS)):\n",
        "  print(PRECIOS[i])\n",
        "\n",
        "print(\"\\nRUTA\")\n",
        "for i in range(len(TARIFAS)):\n",
        "  print(RUTA[i])\n",
        "\n",
        "#Determinar la ruta con Recursividad\n",
        "def calcular_ruta(RUTA, desde, hasta):\n",
        "  if desde == hasta:\n",
        "    #print(\"Ir a :\" + str(desde))\n",
        "    return \"\"\n",
        "  else:\n",
        "    return str(calcular_ruta( RUTA, desde, RUTA[desde][hasta])) +  \\\n",
        "                ',' + \\\n",
        "                str(RUTA[desde][hasta] \\\n",
        "              )\n",
        "\n",
        "print(\"\\nLa ruta es:\")\n",
        "calcular_ruta(RUTA, 1,5)"
      ],
      "metadata": {
        "colab": {
          "base_uri": "https://localhost:8080/",
          "height": 365
        },
        "id": "qoqU1XciUdRn",
        "outputId": "21ebbf55-37d7-4514-eb33-bcf7cffba07f"
      },
      "execution_count": 10,
      "outputs": [
        {
          "output_type": "stream",
          "name": "stdout",
          "text": [
            "PRECIOS\n",
            "[0, 5, 4, 3, 8, 8, 11]\n",
            "[9999, 0, 999, 2, 3, 8, 7]\n",
            "[9999, 9999, 0, 1, 6, 4, 7]\n",
            "[9999, 9999, 9999, 0, 5, 6, 9]\n",
            "[9999, 9999, 9999, 9999, 0, 999, 4]\n",
            "[9999, 9999, 9999, 9999, 9999, 0, 3]\n",
            "[9999, 9999, 9999, 9999, 9999, 9999, 9999]\n",
            "\n",
            "RUTA\n",
            "[0, 0, 0, 0, 1, 2, 5]\n",
            "['', 1, 1, 1, 1, 3, 4]\n",
            "['', '', 2, 2, 3, 2, 5]\n",
            "['', '', '', 3, 3, 3, 3]\n",
            "['', '', '', '', 4, 4, 4]\n",
            "['', '', '', '', '', 5, 5]\n",
            "['', '', '', '', '', '', '']\n",
            "\n",
            "La ruta es:\n"
          ]
        },
        {
          "output_type": "execute_result",
          "data": {
            "text/plain": [
              "',1,3'"
            ],
            "application/vnd.google.colaboratory.intrinsic+json": {
              "type": "string"
            }
          },
          "metadata": {},
          "execution_count": 10
        }
      ]
    },
    {
      "cell_type": "markdown",
      "source": [
        "#### Solución con visualización mejorada"
      ],
      "metadata": {
        "id": "fTUpv2sF-NVD"
      }
    },
    {
      "cell_type": "code",
      "source": [
        "TARIFAS = [\n",
        "  [0, 5, 4, 3, 999, 999, 999],\n",
        "  [999, 0, 999, 2, 3, 999, 11],\n",
        "  [999, 999, 0, 1, 999, 4, 10],\n",
        "  [999, 999, 999, 0, 5, 6, 9],\n",
        "  [999, 999, 999, 999, 0, 999, 4],\n",
        "  [999, 999, 999, 999, 999, 0, 3],\n",
        "  [999, 999, 999, 999, 999, 999, 0]\n",
        "]\n",
        "\n",
        "def Precios(TARIFAS):\n",
        "    N = len(TARIFAS[0])\n",
        "    PRECIOS = [[9999]*N for _ in range(N)]\n",
        "    RUTA = [[\"\"]*N for _ in range(N)]\n",
        "\n",
        "    for i in range(N):\n",
        "        PRECIOS[i][i] = 0\n",
        "        RUTA[i][i] = i\n",
        "        for j in range(i+1, N):\n",
        "            MIN = TARIFAS[i][j]\n",
        "            RUTA[i][j] = i\n",
        "            for k in range(i, j):\n",
        "                if PRECIOS[i][k] + TARIFAS[k][j] < MIN:\n",
        "                    MIN = PRECIOS[i][k] + TARIFAS[k][j]\n",
        "                    RUTA[i][j] = k\n",
        "            PRECIOS[i][j] = MIN\n",
        "\n",
        "    return PRECIOS, RUTA\n",
        "\n",
        "def calcular_ruta(RUTA, desde, hasta):\n",
        "    if desde == hasta:\n",
        "        return str(desde)\n",
        "    else:\n",
        "        return calcular_ruta(RUTA, desde, RUTA[desde][hasta]) + ',' + str(hasta)\n",
        "\n",
        "def imprimir_matriz(matriz, nombre=\"MATRIZ\", usar_ruta=False):\n",
        "    N = len(matriz)\n",
        "    print(f\"\\n=== {nombre} ===\")\n",
        "    header = \"Origen\\\\Destino |\" + \"\".join(f\"{j:^7}|\" for j in range(N))\n",
        "    print(header)\n",
        "    print(\"-\" * len(header))\n",
        "    for i in range(N):\n",
        "        fila = f\"{i:^15}|\"\n",
        "        for j in range(N):\n",
        "            valor = matriz[i][j]\n",
        "            if usar_ruta:\n",
        "                if valor == \"\":\n",
        "                    fila += f\"{'–':^7}|\"\n",
        "                else:\n",
        "                    fila += f\"{str(valor):^7}|\"\n",
        "            else:\n",
        "                fila += f\"{valor:^7}|\"\n",
        "        print(fila)\n",
        "\n",
        "# Procesar tarifas\n",
        "PRECIOS, RUTA = Precios(TARIFAS)\n",
        "\n",
        "# Mostrar matrices como tablas\n",
        "imprimir_matriz(PRECIOS, nombre=\"MATRIZ DE PRECIOS\")\n",
        "imprimir_matriz(RUTA, nombre=\"MATRIZ DE RUTA\", usar_ruta=True)\n",
        "\n",
        "# Mostrar ruta específica\n",
        "inicio = 1\n",
        "fin = 5\n",
        "print(f\"\\n=== RUTA DESDE {inicio} HASTA {fin} ===\")\n",
        "ruta_completa = calcular_ruta(RUTA, inicio, fin)\n",
        "print(f\"Ruta completa: {ruta_completa}\")\n"
      ],
      "metadata": {
        "colab": {
          "base_uri": "https://localhost:8080/"
        },
        "id": "4snkg4XU-P66",
        "outputId": "29b247a1-95b5-4f29-c49b-70994ab62460"
      },
      "execution_count": 11,
      "outputs": [
        {
          "output_type": "stream",
          "name": "stdout",
          "text": [
            "\n",
            "=== MATRIZ DE PRECIOS ===\n",
            "Origen\\Destino |   0   |   1   |   2   |   3   |   4   |   5   |   6   |\n",
            "------------------------------------------------------------------------\n",
            "       0       |   0   |   5   |   4   |   3   |   8   |   8   |  11   |\n",
            "       1       | 9999  |   0   |  999  |   2   |   3   |   8   |   7   |\n",
            "       2       | 9999  | 9999  |   0   |   1   |   6   |   4   |   7   |\n",
            "       3       | 9999  | 9999  | 9999  |   0   |   5   |   6   |   9   |\n",
            "       4       | 9999  | 9999  | 9999  | 9999  |   0   |  999  |   4   |\n",
            "       5       | 9999  | 9999  | 9999  | 9999  | 9999  |   0   |   3   |\n",
            "       6       | 9999  | 9999  | 9999  | 9999  | 9999  | 9999  |   0   |\n",
            "\n",
            "=== MATRIZ DE RUTA ===\n",
            "Origen\\Destino |   0   |   1   |   2   |   3   |   4   |   5   |   6   |\n",
            "------------------------------------------------------------------------\n",
            "       0       |   0   |   0   |   0   |   0   |   1   |   2   |   5   |\n",
            "       1       |   –   |   1   |   1   |   1   |   1   |   3   |   4   |\n",
            "       2       |   –   |   –   |   2   |   2   |   3   |   2   |   5   |\n",
            "       3       |   –   |   –   |   –   |   3   |   3   |   3   |   3   |\n",
            "       4       |   –   |   –   |   –   |   –   |   4   |   4   |   4   |\n",
            "       5       |   –   |   –   |   –   |   –   |   –   |   5   |   5   |\n",
            "       6       |   –   |   –   |   –   |   –   |   –   |   –   |   6   |\n",
            "\n",
            "=== RUTA DESDE 1 HASTA 5 ===\n",
            "Ruta completa: 1,3,5\n"
          ]
        }
      ]
    }
  ]
}