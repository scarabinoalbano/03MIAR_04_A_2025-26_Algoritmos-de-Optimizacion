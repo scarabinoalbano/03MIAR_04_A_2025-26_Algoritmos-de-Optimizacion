{
  "cells": [
    {
      "cell_type": "markdown",
      "metadata": {
        "id": "view-in-github",
        "colab_type": "text"
      },
      "source": [
        "<a href=\"https://colab.research.google.com/github/scarabinoalbano/03MIAR_04_A_2025-26_Algoritmos-de-Optimizacion/blob/main/AlbanoScarabino_ProyectoDeProgramacion.ipynb\" target=\"_parent\"><img src=\"https://colab.research.google.com/assets/colab-badge.svg\" alt=\"Open In Colab\"/></a>"
      ]
    },
    {
      "cell_type": "markdown",
      "metadata": {
        "id": "h0v1YEDHxvs1"
      },
      "source": [
        "# **Algoritmos de optimización - Seminario**<br>\n",
        "Nombre y Apellidos: Albano Scarabino <br>\n",
        "Colab: https://colab.research.google.com/drive/1tK9T2Dl-JZJ60IJzPQ74qeDjKuegawng?usp=sharing <br>\n",
        "Url: https://github.com/scarabinoalbano/03MIAR_04_A_2025-26_Algoritmos-de-Optimizacion/blob/main/AlbanoScarabino_ProyectoDeProgramacion.ipynb"
      ]
    },
    {
      "cell_type": "markdown",
      "metadata": {
        "id": "QPTQ40qny3f3"
      },
      "source": [
        "---\n",
        "# **Problema 1: Organizar sesiones de doblaje**"
      ]
    },
    {
      "cell_type": "markdown",
      "metadata": {
        "id": "XdJvNv7jy7oU"
      },
      "source": [
        "Se precisa coordinar el doblaje de una película. Los actores del doblaje deben coincidir en las tomas en las que sus personajes aparecen juntos en las diferentes tomas. Los actores de doblaje cobran todos la misma cantidad por cada día que deben desplazarse hasta el estudio de grabación independientemente del número de tomas que se graben. No es posible grabar más de 6 tomas por día. El objetivo es planificar las sesiones por día de manera que el gasto por los servicios de los actores de doblaje sea el menor posible. Los datos son:\n",
        "- Número de actores: 10\n",
        "- Número de tomas: 30\n",
        "- Actores/Tomas: https://bit.ly/36D8IuK\n",
        "   - 1 indica que el actor participa en la toma\n",
        "   - 0 en caso contrario"
      ]
    },
    {
      "cell_type": "code",
      "execution_count": 1,
      "metadata": {
        "id": "Y83qUBoBnxJ8"
      },
      "outputs": [],
      "source": [
        "matriz_enunciado = [\n",
        "        [1,1,1,1,1,0,0,0,0,0],  # Toma 1\n",
        "        [0,0,1,1,1,0,0,0,0,0],  # Toma 2\n",
        "        [0,1,0,0,1,0,1,0,0,0],  # Toma 3\n",
        "        [1,1,0,0,0,0,1,1,0,0],  # Toma 4\n",
        "        [0,1,0,1,0,0,0,1,0,0],  # Toma 5\n",
        "        [1,1,0,1,1,0,0,0,0,0],  # Toma 6\n",
        "        [1,1,0,1,1,0,0,0,0,0],  # Toma 7\n",
        "        [1,1,0,0,0,1,0,0,0,0],  # Toma 8\n",
        "        [1,1,0,1,0,0,0,0,0,0],  # Toma 9\n",
        "        [1,1,0,0,0,1,0,0,1,0],  # Toma 10\n",
        "        [1,1,1,0,1,0,0,1,0,0],  # Toma 11\n",
        "        [1,1,1,1,0,1,0,0,0,0],  # Toma 12\n",
        "        [1,0,0,1,1,0,0,0,0,0],  # Toma 13\n",
        "        [1,0,1,0,0,1,0,0,0,0],  # Toma 14\n",
        "        [1,1,0,0,0,0,1,0,0,0],  # Toma 15\n",
        "        [0,0,0,1,0,0,0,0,0,1],  # Toma 16\n",
        "        [1,0,1,0,0,0,0,0,0,0],  # Toma 17\n",
        "        [0,0,1,0,0,1,0,0,0,0],  # Toma 18\n",
        "        [1,0,1,0,0,0,0,0,0,0],  # Toma 19\n",
        "        [1,0,1,1,1,0,0,0,0,0],  # Toma 20\n",
        "        [0,0,0,0,0,1,0,1,0,0],  # Toma 21\n",
        "        [1,1,1,1,0,0,0,0,0,0],  # Toma 22\n",
        "        [1,0,1,0,0,0,0,0,0,0],  # Toma 23\n",
        "        [0,0,1,0,0,1,0,0,0,0],  # Toma 24\n",
        "        [1,1,0,1,0,0,0,0,0,1],  # Toma 25\n",
        "        [1,0,1,0,1,0,0,0,1,0],  # Toma 26\n",
        "        [0,0,0,1,1,0,0,0,0,0],  # Toma 27\n",
        "        [1,0,0,1,0,0,0,0,0,0],  # Toma 28\n",
        "        [1,0,0,0,1,1,0,0,0,0],  # Toma 29\n",
        "        [1,0,0,1,0,0,0,0,0,0]   # Toma 30\n",
        "]\n",
        "max_tomas_por_dia_enunciado = 6"
      ]
    },
    {
      "cell_type": "markdown",
      "metadata": {
        "id": "bp5rK9AjyJvI"
      },
      "source": [
        "---\n",
        "# **¿Cúantas posibilidades hay sin tener en cuenta las restricciones?**"
      ]
    },
    {
      "cell_type": "markdown",
      "metadata": {
        "id": "2XTzD8gkuREa"
      },
      "source": [
        "## Fórmula con restricción de tomas por día (k)\n",
        "\n",
        "Sean:\n",
        "\n",
        "- `(n)`: número total de tomas  \n",
        "- `(k)`: máximo de tomas por día  \n",
        "- `(d)`: número de días  \n",
        "- `(R(n, d, k))`: número de formas de particionar `(n)` tomas en `(d)` días, con hasta `(k)` tomas por día (considerando orden)\n",
        "\n",
        "#### Fórmula general (con orden de los días)\n",
        "\n",
        "$$\n",
        "P(n, k) = \\sum_{d = \\lceil n / k \\rceil}^{n} R(n, d, k)\n",
        "$$\n",
        "\n",
        "#### Fórmula general (sin orden de los días)\n",
        "\n",
        "$$\n",
        "P(n, k) = \\sum_{d = \\lceil n / k \\rceil}^{n} \\frac{R(n, d, k)}{d!}\n",
        "$$\n",
        "\n",
        "#### Donde:\n",
        "\n",
        "$$\n",
        "R(n, d, k) = \\sum_{i=1}^{\\min(k, n)} R(n - i, d - 1, k)\n",
        "$$"
      ]
    },
    {
      "cell_type": "markdown",
      "metadata": {
        "id": "k4oUBeFluREa"
      },
      "source": [
        "## Fórmula sin restricción de tomas por día (k → ∞)\n",
        "\n",
        "Cuando no hay restricción de cuántas tomas pueden hacerse por día, el número total de particiones posibles del conjunto de `n` tomas es dado por el **n-ésimo número de Bell** `(B_n)`:\n",
        "\n",
        "#### Fórmula general:\n",
        "\n",
        "$$\n",
        "P(n, \\infty) = B_n\n",
        "$$\n",
        "\n",
        "donde `(B_n)` es el número de Bell, que cuenta las formas de particionar un conjunto de `n` elementos en subconjuntos no vacíos (sin importar el orden de los subconjuntos).\n",
        "\n",
        "#### Recurrencia:\n",
        "\n",
        "$$\n",
        "B_0 = 1 \\\\\n",
        "B_{n+1} = \\sum_{k=0}^{n} \\binom{n}{k} B_k\n",
        "$$"
      ]
    },
    {
      "cell_type": "code",
      "execution_count": 2,
      "metadata": {
        "id": "EHBQO01ouREa",
        "outputId": "4ab630c3-64cb-42a0-a786-4ec4481e4fee",
        "colab": {
          "base_uri": "https://localhost:8080/"
        }
      },
      "outputs": [
        {
          "output_type": "stream",
          "name": "stdout",
          "text": [
            "846749014511809332450147\n"
          ]
        }
      ],
      "source": [
        "import math\n",
        "\n",
        "def bell_number(n):\n",
        "    B = [0] * (n + 1)\n",
        "    B[0] = 1\n",
        "    for i in range(1, n + 1):\n",
        "        B[i] = sum(math.comb(i - 1, k) * B[k] for k in range(i))\n",
        "    return B[n]\n",
        "\n",
        "# Ejemplo para n = 30\n",
        "print(bell_number(30))"
      ]
    },
    {
      "cell_type": "markdown",
      "metadata": {
        "id": "8kVbDzvoyOTE"
      },
      "source": [
        "---\n",
        "# **¿Cuántas posibilidades hay teniendo en cuenta todas las restricciones?**"
      ]
    },
    {
      "cell_type": "markdown",
      "metadata": {
        "id": "O13yguMDuREb"
      },
      "source": [
        "## Ejemplo de cálculo para n = 30, k = 6\n",
        "\n",
        "#### Fórmula general (sin orden de los días)\n",
        "\n",
        "$$\n",
        "P(30, 6) = \\sum_{d = \\lceil 30/6 \\rceil}^{30} \\frac{R(30, d, 6)}{d!}\n",
        "$$\n",
        "\n",
        "Es decir:\n",
        "\n",
        "- Mínimo número de días:\n",
        "$$\n",
        "\\lceil \\tfrac{30}{6} \\rceil = 5\n",
        "$$\n",
        "\n",
        "- Máximo número de días: 30\n",
        "- Entonces se calcula:\n",
        "\n",
        "$$\n",
        "P(30, 6) = \\frac{R(30, 5, 6)}{5!} + \\frac{R(30, 6, 6)}{6!} + \\cdots + \\frac{R(30, 30, 6)}{30!}\n",
        "$$\n"
      ]
    },
    {
      "cell_type": "code",
      "execution_count": 3,
      "metadata": {
        "id": "Li0er0IEuREc",
        "outputId": "04c60cb8-d3d6-46f5-d4f7-c766fbf2fb50",
        "colab": {
          "base_uri": "https://localhost:8080/"
        }
      },
      "outputs": [
        {
          "output_type": "stream",
          "name": "stdout",
          "text": [
            "Análisis de iteraciones para diferentes valores de n y k\n",
            "============================================================\n",
            "  n |   k |     Iteraciones\n",
            "------------------------------\n",
            "  4 |   3 |              14\n",
            "  4 |   4 |              15\n",
            "  4 |   5 |              15\n",
            "  4 |   6 |              15\n",
            "  4 |   7 |              15\n",
            "  4 |   8 |              15\n",
            "------------------------------\n",
            "  5 |   3 |              46\n",
            "  5 |   4 |              51\n",
            "  5 |   5 |              52\n",
            "  5 |   6 |              52\n",
            "  5 |   7 |              52\n",
            "  5 |   8 |              52\n",
            "------------------------------\n",
            "  6 |   3 |             166\n",
            "  6 |   4 |             196\n",
            "  6 |   5 |             202\n",
            "  6 |   6 |             203\n",
            "  6 |   7 |             203\n",
            "  6 |   8 |             203\n",
            "------------------------------\n",
            "  7 |   3 |             652\n",
            "  7 |   4 |             827\n",
            "  7 |   5 |             869\n",
            "  7 |   6 |             876\n",
            "  7 |   7 |             877\n",
            "  7 |   8 |             877\n",
            "------------------------------\n",
            "  8 |   3 |           2,780\n",
            "  8 |   4 |           3,795\n",
            "  8 |   5 |           4,075\n",
            "  8 |   6 |           4,131\n",
            "  8 |   7 |           4,139\n",
            "  8 |   8 |           4,140\n",
            "------------------------------\n",
            "  9 |   3 |          12,644\n",
            "  9 |   4 |          18,755\n",
            "  9 |   5 |          20,645\n",
            "  9 |   6 |          21,065\n",
            "  9 |   7 |          21,137\n",
            "  9 |   8 |          21,146\n",
            "------------------------------\n",
            " 10 |   3 |          61,136\n",
            " 10 |   4 |          99,146\n",
            " 10 |   5 |         112,124\n",
            " 10 |   6 |         115,274\n",
            " 10 |   7 |         115,874\n",
            " 10 |   8 |         115,964\n",
            "------------------------------\n",
            " 11 |   3 |         312,676\n",
            " 11 |   4 |         556,711\n",
            " 11 |   5 |         648,649\n",
            " 11 |   6 |         672,673\n",
            " 11 |   7 |         677,623\n",
            " 11 |   8 |         678,448\n",
            "------------------------------\n",
            " 12 |   3 |       1,680,592\n",
            " 12 |   4 |       3,305,017\n",
            " 12 |   5 |       3,976,633\n",
            " 12 |   6 |       4,163,743\n",
            " 12 |   7 |       4,204,927\n",
            " 12 |   8 |       4,212,352\n",
            "------------------------------\n",
            " 13 |   3 |       9,467,680\n",
            " 13 |   4 |      20,655,285\n",
            " 13 |   5 |      25,719,630\n",
            " 13 |   6 |      27,216,840\n",
            " 13 |   7 |      27,565,188\n",
            " 13 |   8 |      27,632,112\n",
            "------------------------------\n",
            " 14 |   3 |      55,704,104\n",
            " 14 |   4 |     135,399,720\n",
            " 14 |   5 |     174,839,120\n",
            " 14 |   6 |     187,160,429\n",
            " 14 |   7 |     190,168,577\n",
            " 14 |   8 |     190,778,186\n",
            "------------------------------\n",
            " 15 |   3 |     341,185,496\n",
            " 15 |   4 |     927,973,061\n",
            " 15 |   5 |   1,245,131,903\n",
            " 15 |   6 |   1,349,511,178\n",
            " 15 |   7 |   1,376,119,903\n",
            " 15 |   8 |   1,381,763,398\n",
            "------------------------------\n",
            " 16 |   3 |   2,170,853,456\n",
            " 16 |   4 |   6,631,556,521\n",
            " 16 |   5 |   9,263,053,753\n",
            " 16 |   6 |  10,173,555,345\n",
            " 16 |   7 |  10,414,950,785\n",
            " 16 |   8 |  10,468,226,150\n",
            "------------------------------\n",
            " 17 |   3 |  14,314,313,872\n",
            " 17 |   4 |  49,294,051,497\n",
            " 17 |   5 |  71,806,323,461\n",
            " 17 |   6 |  79,982,663,997\n",
            " 17 |   7 |  82,230,347,149\n",
            " 17 |   8 |  82,744,297,014\n",
            "------------------------------\n",
            " 18 |   3 |  97,620,050,080\n",
            " 18 |   4 | 380,306,658,250\n",
            " 18 |   5 | 578,719,497,070\n",
            " 18 |   6 | 654,277,037,674\n",
            " 18 |   7 | 675,762,947,626\n",
            " 18 |   8 | 680,835,331,228\n",
            "------------------------------\n",
            " 19 |   3 | 687,418,278,544\n",
            " 19 |   4 | 3,039,453,750,685\n",
            " 19 |   5 | 4,839,515,883,625\n",
            " 19 |   6 | 5,557,624,876,513\n",
            " 19 |   7 | 5,768,465,148,493\n",
            " 19 |   8 | 5,819,712,427,654\n",
            "------------------------------\n",
            " 20 |   3 | 4,989,946,902,176\n",
            " 20 |   4 | 25,120,541,332,271\n",
            " 20 |   5 | 41,916,097,982,471\n",
            " 20 |   6 | 48,931,106,059,451\n",
            " 20 |   7 | 51,054,457,464,731\n",
            " 20 |   8 | 51,584,619,782,546\n",
            "------------------------------\n",
            " 21 |   3 | 37,286,121,988,256\n",
            " 21 |   4 | 214,363,100,120,051\n",
            " 21 |   5 | 375,401,824,277,096\n",
            " 21 |   6 | 445,790,174,654,588\n",
            " 21 |   7 | 467,728,049,807,348\n",
            " 21 |   8 | 473,344,099,095,848\n",
            "------------------------------\n",
            " 22 |   3 | 286,432,845,428,192\n",
            " 22 |   4 | 1,885,987,611,214,092\n",
            " 22 |   5 | 3,471,395,994,487,422\n",
            " 22 |   6 | 4,196,351,007,814,659\n",
            " 22 |   7 | 4,428,770,289,719,931\n",
            " 22 |   8 | 4,489,677,962,922,186\n",
            "------------------------------\n",
            " 23 |   3 | 2,259,405,263,572,480\n",
            " 23 |   4 | 17,085,579,637,664,715\n",
            " 23 |   5 | 33,099,042,344,383,885\n",
            " 23 |   6 | 40,757,862,664,061,104\n",
            " 23 |   7 | 43,281,554,035,140,829\n",
            " 23 |   8 | 43,957,668,431,564,086\n",
            "------------------------------\n",
            " 24 |   3 | 18,280,749,571,449,664\n",
            " 24 |   4 | 159,185,637,725,413,675\n",
            " 24 |   5 | 325,005,134,436,155,395\n",
            " 24 |   6 | 407,944,375,184,911,787\n",
            " 24 |   7 | 436,015,324,638,219,779\n",
            " 24 |   8 | 443,694,809,361,207,824\n",
            "------------------------------\n",
            " 25 |   3 | 151,561,941,235,370,176\n",
            " 25 |   4 | 1,523,643,044,367,439,451\n",
            " 25 |   5 | 3,282,701,194,678,476,257\n",
            " 25 |   6 | 4,202,768,491,519,145,157\n",
            " 25 |   7 | 4,522,437,291,644,820,157\n",
            " 25 |   8 | 4,611,653,497,305,302,332\n",
            "------------------------------\n",
            " 26 |   3 | 1,286,402,259,593,355,776\n",
            " 26 |   4 | 14,966,729,384,594,607,426\n",
            " 26 |   5 | 34,070,586,123,323,861,632\n",
            " 26 |   6 | 44,519,299,362,653,156,562\n",
            " 26 |   7 | 48,244,336,617,460,625,162\n",
            " 26 |   8 | 49,304,025,892,793,720,712\n",
            "------------------------------\n",
            " 27 |   3 | 11,168,256,342,434,121,152\n",
            " 27 |   4 | 150,739,287,856,835,736,527\n",
            " 27 |   5 | 363,002,366,089,699,807,589\n",
            " 27 |   6 | 484,403,170,259,414,082,509\n",
            " 27 |   7 | 528,796,261,888,758,870,839\n",
            " 27 |   8 | 541,659,562,018,848,676,664\n",
            "------------------------------\n",
            " 28 |   3 | 99,099,358,725,069,658,880\n",
            " 28 |   4 | 1,555,257,680,160,696,383,705\n",
            " 28 |   5 | 3,966,664,522,121,280,949,985\n",
            " 28 |   6 | 5,408,905,197,605,286,033,035\n",
            " 28 |   7 | 5,949,691,743,323,605,138,955\n",
            " 28 |   8 | 6,109,198,015,659,487,215,560\n",
            "------------------------------\n",
            " 29 |   3 | 898,070,590,439,513,534,464\n",
            " 29 |   4 | 16,424,836,060,876,590,254,965\n",
            " 29 |   5 | 44,418,021,568,596,265,189,930\n",
            " 29 |   6 | 61,927,102,526,703,487,198,000\n",
            " 29 |   7 | 68,657,470,706,527,678,122,100\n",
            " 29 |   8 | 70,677,074,894,805,047,818,960\n",
            "------------------------------\n",
            " 30 |   3 | 8,306,264,068,494,786,829,696\n",
            " 30 |   4 | 177,415,888,826,720,789,946,976\n",
            " 30 |   5 | 509,291,611,111,965,414,603,964\n",
            " 30 |   6 | 726,391,948,970,868,949,621,309\n",
            " 30 |   7 | 811,925,631,378,989,963,050,009\n",
            " 30 |   8 | 838,025,040,670,370,727,700,684\n",
            "------------------------------\n"
          ]
        }
      ],
      "source": [
        "import math\n",
        "from functools import lru_cache\n",
        "\n",
        "@lru_cache(maxsize=None)\n",
        "def R(n, d, k):\n",
        "    \"\"\"\n",
        "    Calcula la cantidad de particiones ordenadas de `n` tomas en `d` días, donde cada día tiene entre 1 y `k` tomas como máximo.\n",
        "    \"\"\"\n",
        "    if n == 0 and d == 0:\n",
        "        return 1\n",
        "    if n < 0 or d == 0 or n > d * k:\n",
        "        return 0\n",
        "\n",
        "    total = 0\n",
        "    for i in range(1, min(k, n - d + 1) + 1):\n",
        "        total += math.comb(n, i) * R(n - i, d - 1, k)\n",
        "    return total\n",
        "\n",
        "def total_posibilidades_sin_orden(n, k):\n",
        "    \"\"\"\n",
        "    Calcula el número total de particiones válidas de `n` tomas en días, donde cada día tiene entre 1 y `k` tomas, sin importar el orden de los días.\n",
        "    \"\"\"\n",
        "    d_min = math.ceil(n / k)\n",
        "    total = 0\n",
        "    for d in range(d_min, n + 1):\n",
        "        total += R(n, d, k) // math.factorial(d)\n",
        "    return total\n",
        "\n",
        "# Definir rangos para n y k\n",
        "rangos_n = list(range(4, 31))  # Del 4 al 30 inclusive\n",
        "rangos_k = [3, 4, 5, 6, 7, 8]\n",
        "\n",
        "print(\"Análisis de iteraciones para diferentes valores de n y k\")\n",
        "print(\"=\" * 60)\n",
        "print(f\"{'n':>3} | {'k':>3} | {'Iteraciones':>15}\")\n",
        "print(\"-\" * 30)\n",
        "\n",
        "# Doble bucle para barrer todos los valores\n",
        "for n in rangos_n:\n",
        "    for k in rangos_k:\n",
        "            total_iteraciones = total_posibilidades_sin_orden(n, k)\n",
        "            print(f\"{n:>3} | {k:>3} | {total_iteraciones:>15,}\")\n",
        "    print(\"-\" * 30)  # Separador entre diferentes valores de n"
      ]
    },
    {
      "cell_type": "markdown",
      "metadata": {
        "id": "W5LV-DifyiTZ"
      },
      "source": [
        "---\n",
        "# **¿Cuál es la función objetivo?**"
      ]
    },
    {
      "cell_type": "markdown",
      "metadata": {
        "id": "lamNll6OsS2Z"
      },
      "source": [
        "Minimizar la cantidad total de actores involucrados a lo largo de todos los días:\n",
        "\n",
        "$$\n",
        "\\text{Minimizar: } f(x) = \\sum_{d=1}^{D} |A_d|\n",
        "$$\n",
        "\n",
        "Donde:\n",
        "\n",
        "- $D$: número total de días  \n",
        "- $A_d$: conjunto de actores únicos necesarios en el día $d$  \n",
        "- $|A_d|$: número de actores únicos en el día $d$ (cardinalidad del conjunto $A_d$)"
      ]
    },
    {
      "cell_type": "code",
      "execution_count": 4,
      "metadata": {
        "id": "HVbAvYj6PffG"
      },
      "outputs": [],
      "source": [
        "def funcion_objetivo(planificacion, matriz_actores_tomas):\n",
        "    \"\"\"\n",
        "    Función objetivo: minimizar el costo total de actores\n",
        "    \"\"\"\n",
        "    costo_total = 0\n",
        "    for dia in planificacion:\n",
        "        actores_del_dia = set()\n",
        "        for toma in dia:\n",
        "            for actor in range(len(matriz_actores_tomas[0])):\n",
        "                if matriz_actores_tomas[toma][actor] == 1:\n",
        "                    actores_del_dia.add(actor)\n",
        "        actores_dia = len(actores_del_dia)\n",
        "        costo_total += actores_dia  # Suma el número de actores únicos por día\n",
        "    return costo_total"
      ]
    },
    {
      "cell_type": "markdown",
      "metadata": {
        "id": "4eporMcjyoXB"
      },
      "source": [
        "---\n",
        "# **¿Es un problema de maximización o de minimización?**"
      ]
    },
    {
      "cell_type": "markdown",
      "metadata": {
        "id": "XV8uQB8kizzw"
      },
      "source": [
        "Es definitivamente un problema de minimización donde se busca la planificación con el menor costo total de actores-día.\n",
        "\n",
        "Sujeto a:\n",
        "- Cada toma se asigna a exactamente un día\n",
        "- Máximo 6 tomas por día\n",
        "- Todos los actores necesarios están disponibles cada día"
      ]
    },
    {
      "cell_type": "markdown",
      "metadata": {
        "id": "nd_-p69J0PJn"
      },
      "source": [
        "---\n",
        "# **Diseña un algoritmo para resolver el problema por fuerza bruta.**"
      ]
    },
    {
      "cell_type": "code",
      "execution_count": 5,
      "metadata": {
        "id": "yvmunItJ0R-5"
      },
      "outputs": [],
      "source": [
        "import time\n",
        "\n",
        "def generar_todas_particiones(tomas, max_tomas_por_dia):\n",
        "    \"\"\"\n",
        "    Genera todas las posibles particiones de tomas en días usando fuerza bruta\n",
        "    \"\"\"\n",
        "    def particionar_recursivo(tomas_restantes, particion_actual):\n",
        "        if not tomas_restantes:\n",
        "            yield particion_actual[:]\n",
        "            return\n",
        "\n",
        "        # Probar agregar la siguiente toma a cada día existente (si cabe)\n",
        "        for i, dia in enumerate(particion_actual):\n",
        "            if len(dia) < max_tomas_por_dia:\n",
        "                dia.append(tomas_restantes[0])\n",
        "                yield from particionar_recursivo(tomas_restantes[1:], particion_actual)\n",
        "                dia.pop()\n",
        "\n",
        "        # Probar crear un nuevo día con la siguiente toma\n",
        "        particion_actual.append([tomas_restantes[0]])\n",
        "        yield from particionar_recursivo(tomas_restantes[1:], particion_actual)\n",
        "        particion_actual.pop()\n",
        "\n",
        "    yield from particionar_recursivo(tomas, [])\n",
        "\n",
        "def funcion_objetivo(planificacion, matriz_actores_tomas):\n",
        "    \"\"\"\n",
        "    Función objetivo: minimizar el costo total de actores\n",
        "    \"\"\"\n",
        "    costo_total = 0\n",
        "    for dia in planificacion:\n",
        "        actores_del_dia = set()\n",
        "        for toma in dia:\n",
        "            for actor in range(len(matriz_actores_tomas[0])):\n",
        "                if matriz_actores_tomas[toma][actor] == 1:\n",
        "                    actores_del_dia.add(actor)\n",
        "        actores_dia = len(actores_del_dia)\n",
        "        costo_total += actores_dia  # Suma el número de actores únicos por día\n",
        "    return costo_total\n",
        "\n",
        "def fuerza_bruta_doblaje(matriz_actores_tomas, max_tomas_por_dia):\n",
        "    \"\"\"\n",
        "    Resuelve el problema de doblaje usando fuerza bruta pura\n",
        "    \"\"\"\n",
        "    tomas = list(range(len(matriz_actores_tomas)))\n",
        "    mejor_costo = float('inf')\n",
        "    mejor_planificacion = None\n",
        "    iteraciones = 0\n",
        "\n",
        "    print(\"\\nGenerando todas las particiones posibles...\")\n",
        "\n",
        "    for particion in generar_todas_particiones(tomas, max_tomas_por_dia):\n",
        "        iteraciones += 1\n",
        "\n",
        "        # Calcular costo total usando la función objetivo\n",
        "        costo_total = funcion_objetivo(particion, matriz_actores_tomas)\n",
        "\n",
        "        # Actualizar mejor solución si es necesario\n",
        "        if costo_total < mejor_costo:\n",
        "            mejor_costo = costo_total\n",
        "            mejor_planificacion = [dia[:] for dia in particion]\n",
        "            print(f\"Nueva mejor solucion encontrada - Costo: {mejor_costo}, Dias: {len(particion)}, Partición: {particion}\")\n",
        "\n",
        "        # Mostrar progreso cada cierto número de iteraciones\n",
        "        if iteraciones % 10000 == 0:\n",
        "            print(f\"Iteracion: {iteraciones:}, Mejor costo: {mejor_costo}, Particion actual: {particion}\")\n",
        "\n",
        "    print(f\"Iteraciones Totales: {iteraciones:}, Mejor costo: {mejor_costo}\")\n",
        "    return mejor_planificacion\n",
        "\n",
        "def mostrar_planificacion(planificacion, matriz_actores_tomas):\n",
        "    \"\"\"\n",
        "    Muestra la planificación de manera detallada\n",
        "    \"\"\"\n",
        "    if not planificacion:\n",
        "        print(\"No se encontro planificacion\")\n",
        "        return\n",
        "\n",
        "    print(\"\\n=== PLANIFICACION OPTIMA DE SESIONES DE DOBLAJE POR FUERZA BRUTA ===\")\n",
        "\n",
        "    costo_total = 0\n",
        "    num_actores = len(matriz_actores_tomas[0])\n",
        "\n",
        "    for i, dia in enumerate(planificacion, 1):\n",
        "        print(f\"\\nDIA {i}:\")\n",
        "        print(f\"Tomas: {[t+1 for t in dia]}\")  # +1 para mostrar tomas desde 1\n",
        "\n",
        "        # Calcular actores únicos del día\n",
        "        actores_del_dia = set()\n",
        "        for toma in dia:\n",
        "            for actor in range(num_actores):\n",
        "                if matriz_actores_tomas[toma][actor] == 1:\n",
        "                    actores_del_dia.add(actor + 1)  # +1 para mostrar actores desde 1\n",
        "\n",
        "        actores_ordenados = sorted(list(actores_del_dia))\n",
        "        print(f\"Actores necesarios: {actores_ordenados}\")\n",
        "        print(f\"Costo del dia: {len(actores_ordenados)}\")\n",
        "\n",
        "        costo_total += len(actores_ordenados)\n",
        "\n",
        "    print(f\"\\nCOSTO TOTAL: {costo_total}\")\n",
        "    print(f\"DIAS TOTALES: {len(planificacion)}\\n\")\n",
        "\n",
        "def ejecutar_algoritmo_fuerza_bruta(matriz_actores_tomas, max_tomas_por_dia):\n",
        "    \"\"\"\n",
        "    Función principal para resolver el problema de doblaje con una matriz personalizada\n",
        "    \"\"\"\n",
        "    print(\"=\"*60)\n",
        "    print(\"ORGANIZAR SESIONES DE DOBLAJE - FUERZA BRUTA\")\n",
        "    print(\"=\"*60)\n",
        "\n",
        "    total_iteraciones = total_posibilidades_sin_orden(len(matriz_actores_tomas), max_tomas_por_dia)\n",
        "    print(f\"\\nSe realizarán {total_iteraciones} iteraciones.\")\n",
        "\n",
        "    # Ejecutar algoritmo de fuerza bruta\n",
        "    tiempo_inicio = time.time()\n",
        "    mejor_planificacion = fuerza_bruta_doblaje(matriz_actores_tomas, max_tomas_por_dia)\n",
        "    tiempo_total = time.time() - tiempo_inicio\n",
        "    print(f\"Tiempo: {tiempo_total:.2f} segundos\")\n",
        "\n",
        "    # Mostrar resultados\n",
        "    mostrar_planificacion(mejor_planificacion, matriz_actores_tomas)"
      ]
    },
    {
      "cell_type": "code",
      "execution_count": 6,
      "metadata": {
        "colab": {
          "base_uri": "https://localhost:8080/"
        },
        "id": "DxZb-d1OGtkj",
        "outputId": "42843693-6933-4a11-e7bc-e2f276bbc71c"
      },
      "outputs": [
        {
          "output_type": "stream",
          "name": "stdout",
          "text": [
            "\n",
            "Se necesitan 726391948970868949621309 iteraciones.\n"
          ]
        }
      ],
      "source": [
        "# Es computacionalmente imposible resolver n=30, k=6 con fuerza bruta.\n",
        "total_iteraciones = total_posibilidades_sin_orden(len(matriz_enunciado), max_tomas_por_dia_enunciado)\n",
        "print(f\"\\nSe necesitan {total_iteraciones} iteraciones.\")"
      ]
    },
    {
      "cell_type": "markdown",
      "metadata": {
        "id": "KOOFke32QAxs"
      },
      "source": [
        "---\n",
        "# **Se aplica el algoritmo por fuerza bruta a matrices mas pequeñas que la del enunciado**"
      ]
    },
    {
      "cell_type": "code",
      "execution_count": 7,
      "metadata": {
        "colab": {
          "base_uri": "https://localhost:8080/"
        },
        "id": "9lYM-DBiGKOD",
        "outputId": "f993fc08-9112-4c6d-ede7-dab87481153f"
      },
      "outputs": [
        {
          "output_type": "stream",
          "name": "stdout",
          "text": [
            "============================================================\n",
            "ORGANIZAR SESIONES DE DOBLAJE - FUERZA BRUTA\n",
            "============================================================\n",
            "\n",
            "Se realizarán 14 iteraciones.\n",
            "\n",
            "Generando todas las particiones posibles...\n",
            "Nueva mejor solucion encontrada - Costo: 4, Dias: 2, Partición: [[0, 1, 2], [3]]\n",
            "Iteraciones Totales: 14, Mejor costo: 4\n",
            "Tiempo: 0.00 segundos\n",
            "\n",
            "=== PLANIFICACION OPTIMA DE SESIONES DE DOBLAJE POR FUERZA BRUTA ===\n",
            "\n",
            "DIA 1:\n",
            "Tomas: [1, 2, 3]\n",
            "Actores necesarios: [1, 2, 3]\n",
            "Costo del dia: 3\n",
            "\n",
            "DIA 2:\n",
            "Tomas: [4]\n",
            "Actores necesarios: [4]\n",
            "Costo del dia: 1\n",
            "\n",
            "COSTO TOTAL: 4\n",
            "DIAS TOTALES: 2\n",
            "\n"
          ]
        }
      ],
      "source": [
        "matriz = [\n",
        "    [1, 1, 0, 0],  # Toma 1: Actores 1 y 2\n",
        "    [0, 1, 1, 0],  # Toma 2: Actores 2 y 3\n",
        "    [1, 0, 1, 0],  # Toma 3: Actores 1 y 3\n",
        "    [0, 0, 0, 1],  # Toma 4: Actor 4\n",
        "]\n",
        "\n",
        "ejecutar_algoritmo_fuerza_bruta(matriz, 3)"
      ]
    },
    {
      "cell_type": "code",
      "execution_count": 8,
      "metadata": {
        "colab": {
          "base_uri": "https://localhost:8080/"
        },
        "id": "iT9jXEqOHoLj",
        "outputId": "4e89e499-5bf7-41d2-c566-90e047fceda0"
      },
      "outputs": [
        {
          "output_type": "stream",
          "name": "stdout",
          "text": [
            "============================================================\n",
            "ORGANIZAR SESIONES DE DOBLAJE - FUERZA BRUTA\n",
            "============================================================\n",
            "\n",
            "Se realizarán 4131 iteraciones.\n",
            "\n",
            "Generando todas las particiones posibles...\n",
            "Nueva mejor solucion encontrada - Costo: 8, Dias: 2, Partición: [[0, 1, 2, 3, 4, 5], [6, 7]]\n",
            "Iteraciones Totales: 4131, Mejor costo: 8\n",
            "Tiempo: 0.06 segundos\n",
            "\n",
            "=== PLANIFICACION OPTIMA DE SESIONES DE DOBLAJE POR FUERZA BRUTA ===\n",
            "\n",
            "DIA 1:\n",
            "Tomas: [1, 2, 3, 4, 5, 6]\n",
            "Actores necesarios: [1, 2, 3, 5, 6]\n",
            "Costo del dia: 5\n",
            "\n",
            "DIA 2:\n",
            "Tomas: [7, 8]\n",
            "Actores necesarios: [2, 3, 4]\n",
            "Costo del dia: 3\n",
            "\n",
            "COSTO TOTAL: 8\n",
            "DIAS TOTALES: 2\n",
            "\n"
          ]
        }
      ],
      "source": [
        "matriz = [\n",
        "        [1,1,1,0,0,0],  # Toma 1\n",
        "        [1,1,1,0,0,0],  # Toma 2\n",
        "        [0,0,1,0,1,0],  # Toma 3\n",
        "        [0,0,0,0,1,1],  # Toma 4\n",
        "        [0,1,0,0,0,1],  # Toma 5\n",
        "        [0,1,1,0,0,0],  # Toma 6\n",
        "        [0,1,1,0,0,0],  # Toma 7\n",
        "        [0,0,0,1,0,0],  # Toma 8\n",
        "]\n",
        "\n",
        "ejecutar_algoritmo_fuerza_bruta(matriz, 6)"
      ]
    },
    {
      "cell_type": "markdown",
      "metadata": {
        "id": "DGV-anJt0VlA"
      },
      "source": [
        "---\n",
        "# **Calcula la complejidad del algoritmo por fuerza bruta.**"
      ]
    },
    {
      "cell_type": "markdown",
      "metadata": {
        "id": "_81V4Kq-oJQ0"
      },
      "source": [
        "- Por día: $O(k \\times m)$  \n",
        "  - donde\n",
        "    - `(k)` = máximo de tomas por día,\n",
        "    - `(m)` = número de actores.\n",
        "\n",
        "- Por partición: $O(d \\times k \\times m)$\n",
        "  - donde\n",
        "    - `(d)` = número de días en la partición.\n",
        "\n",
        "- En promedio (total de tomas = n):\n",
        "  - $O(n \\times m)$\n",
        "  - ya que $\\sum$ tomas por día `= n`.\n",
        "\n",
        "$$\n",
        "\\boxed{T(n, k, m) = O(P(n, k) \\times n \\times m)}\n",
        "$$\n",
        "\n",
        "Donde:\n",
        "- `P(n, k)` = número de particiones posibles de $n$ tomas en grupos de a lo sumo $k$ elementos por grupo.\n"
      ]
    },
    {
      "cell_type": "markdown",
      "metadata": {
        "id": "G23JUQal0ZLQ"
      },
      "source": [
        "---\n",
        "# **Diseña un algoritmo que mejore la complejidad del algorito por fuerza bruta.**"
      ]
    },
    {
      "cell_type": "code",
      "execution_count": 9,
      "metadata": {
        "id": "3s98_eyuuREe"
      },
      "outputs": [],
      "source": [
        "from copy import deepcopy\n",
        "import time\n",
        "\n",
        "class BusquedaTabu:\n",
        "    def __init__(self, matriz_actores, max_tomas_por_dia):\n",
        "        self.matriz = matriz_actores\n",
        "        self.max_tomas = max_tomas_por_dia\n",
        "        self.n_tomas = len(matriz_actores)\n",
        "        self.n_actores = len(matriz_actores[0])\n",
        "\n",
        "    def solucion_inicial(self):\n",
        "        tomas = list(range(self.n_tomas))\n",
        "\n",
        "        calendario = []\n",
        "        dia_actual = []\n",
        "\n",
        "        for toma in tomas:\n",
        "            if len(dia_actual) < self.max_tomas:\n",
        "                dia_actual.append(toma)\n",
        "            else:\n",
        "                calendario.append(dia_actual)\n",
        "                dia_actual = [toma]\n",
        "\n",
        "        if dia_actual:\n",
        "            calendario.append(dia_actual)\n",
        "\n",
        "        return calendario\n",
        "\n",
        "    def calcular_costo(self, calendario):\n",
        "        \"\"\"Calcula el costo total del calendario\"\"\"\n",
        "        costo = 0\n",
        "        for dia in calendario:\n",
        "            actores_dia = set()\n",
        "            for toma in dia:\n",
        "                for actor in range(self.n_actores):\n",
        "                    if self.matriz[toma][actor] == 1:\n",
        "                        actores_dia.add(actor)\n",
        "            costo += len(actores_dia)\n",
        "        return costo\n",
        "\n",
        "    def generar_vecinos(self, calendario):\n",
        "        \"\"\"Genera vecinos intercambiando tomas entre días\"\"\"\n",
        "        vecinos = []\n",
        "\n",
        "        # Intercambios entre días (siempre válidos)\n",
        "        for i in range(len(calendario)):\n",
        "            for j in range(i + 1, len(calendario)):\n",
        "                if calendario[i] and calendario[j]:\n",
        "                    for toma_i in calendario[i]:\n",
        "                        for toma_j in calendario[j]:\n",
        "                            nuevo = deepcopy(calendario)\n",
        "                            nuevo[i].remove(toma_i)\n",
        "                            nuevo[i].append(toma_j)\n",
        "                            nuevo[j].remove(toma_j)\n",
        "                            nuevo[j].append(toma_i)\n",
        "\n",
        "                            movimiento = f\"swap_{i}_{toma_i}_{j}_{toma_j}\"\n",
        "                            vecinos.append((nuevo, movimiento))\n",
        "\n",
        "        # Traslados entre días (verificando restricción)\n",
        "        for i in range(len(calendario)):\n",
        "            for j in range(len(calendario)):\n",
        "                if i != j and calendario[i]:\n",
        "                    for toma in calendario[i]:\n",
        "                        if len(calendario[j]) < self.max_tomas:\n",
        "                            nuevo = deepcopy(calendario)\n",
        "                            nuevo[i].remove(toma)\n",
        "                            nuevo[j].append(toma)\n",
        "                            # Eliminar días vacíos\n",
        "                            nuevo = [dia for dia in nuevo if dia]\n",
        "\n",
        "                            movimiento = f\"move_{i}_{toma}_{j}\"\n",
        "                            vecinos.append((nuevo, movimiento))\n",
        "\n",
        "        return vecinos\n",
        "\n",
        "    def buscar(self, max_iter=100, tabu_size=10):\n",
        "        \"\"\"Algoritmo de búsqueda tabú\"\"\"\n",
        "        # Cabecera\n",
        "        print(\"=\"*60)\n",
        "        print(\"ORGANIZAR SESIONES DE DOBLAJE - BUSQUEDA TABU\")\n",
        "        print(\"=\"*60)\n",
        "        print(\"\\nGenerando todas las particiones posibles...\")\n",
        "\n",
        "        t0 = time.time()\n",
        "\n",
        "        # Inicializar\n",
        "        actual = self.solucion_inicial()\n",
        "        mejor = deepcopy(actual)\n",
        "        lista_tabu = []\n",
        "\n",
        "        # Evaluamos la inicial como primera \"mejor\" para imprimir\n",
        "        costo_mejor = self.calcular_costo(mejor)\n",
        "        dias_mejor = len(mejor)\n",
        "        print(f\"Nueva mejor solucion encontrada - Costo: {costo_mejor}, Dias: {dias_mejor}\")\n",
        "\n",
        "        # Búsqueda\n",
        "        for _ in range(max_iter):\n",
        "            vecinos = self.generar_vecinos(actual)\n",
        "            mejor_vecino = None\n",
        "            mejor_mov = None\n",
        "\n",
        "            for vecino, mov in vecinos:\n",
        "                if mov not in lista_tabu:\n",
        "                    if (mejor_vecino is None or\n",
        "                        self.calcular_costo(vecino) < self.calcular_costo(mejor_vecino)):\n",
        "                        mejor_vecino = vecino\n",
        "                        mejor_mov = mov\n",
        "\n",
        "            # Criterio de aspiración\n",
        "            if mejor_vecino is None:\n",
        "                for vecino, mov in vecinos:\n",
        "                    if self.calcular_costo(vecino) < self.calcular_costo(mejor):\n",
        "                        mejor_vecino = vecino\n",
        "                        mejor_mov = mov\n",
        "                        break\n",
        "\n",
        "            if mejor_vecino is None:\n",
        "                break\n",
        "\n",
        "            actual = mejor_vecino\n",
        "            lista_tabu.append(mejor_mov)\n",
        "            if len(lista_tabu) > tabu_size:\n",
        "                lista_tabu.pop(0)\n",
        "\n",
        "            costo_actual = self.calcular_costo(actual)\n",
        "            if costo_actual < costo_mejor:\n",
        "                mejor = deepcopy(actual)\n",
        "                costo_mejor = costo_actual\n",
        "                dias_mejor = len(mejor)\n",
        "                print(f\"Nueva mejor solucion encontrada - Costo: {costo_mejor}, Dias: {dias_mejor}, Partición: {mejor}\")\n",
        "\n",
        "        t1 = time.time()\n",
        "        print(f\"Tiempo: {t1 - t0:.2f} segundos\\n\")\n",
        "        return mejor\n",
        "\n",
        "    def mostrar_resultado(self, calendario):\n",
        "        \"\"\"Muestra el resultado final con formato específico\"\"\"\n",
        "        print(\"=== PLANIFICACION OPTIMA DE SESIONES DE DOBLAJE POR BUSQUEDA TABU ===\\n\")\n",
        "\n",
        "        costo_total = 0\n",
        "        for i, dia in enumerate(calendario, 1):\n",
        "            actores_dia = set()\n",
        "            for toma in dia:\n",
        "                for actor in range(self.n_actores):\n",
        "                    if self.matriz[toma][actor] == 1:\n",
        "                        actores_dia.add(actor)\n",
        "\n",
        "            tomas_str = sorted([t + 1 for t in dia])\n",
        "            actores_str = sorted([a + 1 for a in actores_dia])\n",
        "            costo_dia = len(actores_dia)\n",
        "            costo_total += costo_dia\n",
        "\n",
        "            print(f\"DIA {i}:\")\n",
        "            print(f\"  Tomas: {tomas_str}\")\n",
        "            print(f\"  Actores necesarios: {actores_str}\")\n",
        "            print(f\"  Costo del dia: {costo_dia}\\n\")\n",
        "\n",
        "        print(f\"COSTO TOTAL: {costo_total}\")\n",
        "        print(f\"DIAS TOTALES: {len(calendario)}\")\n",
        "\n",
        "def ejecutar_busqueda_tabu(matriz, max_tomas_por_dia):\n",
        "    algoritmo = BusquedaTabu(matriz, max_tomas_por_dia)\n",
        "    mejor_calendario = algoritmo.buscar()\n",
        "    algoritmo.mostrar_resultado(mejor_calendario)"
      ]
    },
    {
      "cell_type": "markdown",
      "metadata": {
        "id": "nA62aUzQQMjs"
      },
      "source": [
        "---\n",
        "# **Aplicar al algoritmo optimizado la matriz y restricciones del enunciado**"
      ]
    },
    {
      "cell_type": "code",
      "execution_count": 10,
      "metadata": {
        "colab": {
          "base_uri": "https://localhost:8080/"
        },
        "id": "EscjJxpUlb5F",
        "outputId": "7d93823f-1d21-4750-9312-feba108b79f5"
      },
      "outputs": [
        {
          "output_type": "stream",
          "name": "stdout",
          "text": [
            "============================================================\n",
            "ORGANIZAR SESIONES DE DOBLAJE - BUSQUEDA TABU\n",
            "============================================================\n",
            "\n",
            "Generando todas las particiones posibles...\n",
            "Nueva mejor solucion encontrada - Costo: 38, Dias: 5\n",
            "Nueva mejor solucion encontrada - Costo: 35, Dias: 5, Partición: [[0, 1, 2, 3, 4, 5], [6, 7, 8, 9, 10, 11], [13, 14, 15, 16, 17, 24], [18, 19, 20, 21, 22, 23], [25, 26, 27, 28, 29, 12]]\n",
            "Nueva mejor solucion encontrada - Costo: 34, Dias: 5, Partición: [[1, 2, 3, 4, 5, 10], [6, 7, 8, 9, 11, 0], [13, 14, 15, 16, 17, 24], [18, 19, 20, 21, 22, 23], [25, 26, 27, 28, 29, 12]]\n",
            "Nueva mejor solucion encontrada - Costo: 33, Dias: 5, Partición: [[2, 3, 4, 5, 10, 21], [6, 7, 8, 9, 11, 0], [13, 14, 15, 16, 17, 24], [18, 19, 20, 22, 23, 1], [25, 26, 27, 28, 29, 12]]\n",
            "Nueva mejor solucion encontrada - Costo: 32, Dias: 5, Partición: [[2, 3, 4, 5, 10, 14], [6, 7, 8, 9, 11, 0], [13, 15, 16, 17, 24, 21], [18, 19, 20, 22, 23, 1], [25, 26, 27, 28, 29, 12]]\n",
            "Nueva mejor solucion encontrada - Costo: 31, Dias: 5, Partición: [[2, 3, 4, 5, 10, 14], [7, 8, 9, 11, 0, 25], [13, 15, 16, 17, 24, 21], [18, 19, 20, 22, 23, 1], [26, 27, 28, 29, 12, 6]]\n",
            "Nueva mejor solucion encontrada - Costo: 30, Dias: 5, Partición: [[2, 3, 4, 5, 10, 14], [7, 9, 11, 0, 25, 28], [13, 15, 16, 17, 24, 21], [18, 19, 20, 22, 23, 1], [26, 27, 29, 12, 6, 8]]\n",
            "Nueva mejor solucion encontrada - Costo: 29, Dias: 5, Partición: [[2, 3, 4, 10, 14, 0], [7, 9, 25, 28, 18, 13], [15, 16, 17, 24, 21, 11], [19, 20, 22, 23, 1, 26], [27, 29, 12, 6, 8, 5]]\n",
            "Tiempo: 8.10 segundos\n",
            "\n",
            "=== PLANIFICACION OPTIMA DE SESIONES DE DOBLAJE POR BUSQUEDA TABU ===\n",
            "\n",
            "DIA 1:\n",
            "  Tomas: [1, 3, 4, 5, 11, 15]\n",
            "  Actores necesarios: [1, 2, 3, 4, 5, 7, 8]\n",
            "  Costo del dia: 7\n",
            "\n",
            "DIA 2:\n",
            "  Tomas: [8, 10, 14, 19, 26, 29]\n",
            "  Actores necesarios: [1, 2, 3, 5, 6, 9]\n",
            "  Costo del dia: 6\n",
            "\n",
            "DIA 3:\n",
            "  Tomas: [12, 16, 17, 18, 22, 25]\n",
            "  Actores necesarios: [1, 2, 3, 4, 6, 10]\n",
            "  Costo del dia: 6\n",
            "\n",
            "DIA 4:\n",
            "  Tomas: [2, 20, 21, 23, 24, 27]\n",
            "  Actores necesarios: [1, 3, 4, 5, 6, 8]\n",
            "  Costo del dia: 6\n",
            "\n",
            "DIA 5:\n",
            "  Tomas: [6, 7, 9, 13, 28, 30]\n",
            "  Actores necesarios: [1, 2, 4, 5]\n",
            "  Costo del dia: 4\n",
            "\n",
            "COSTO TOTAL: 29\n",
            "DIAS TOTALES: 5\n"
          ]
        }
      ],
      "source": [
        "ejecutar_busqueda_tabu(matriz_enunciado, max_tomas_por_dia_enunciado)"
      ]
    },
    {
      "cell_type": "markdown",
      "metadata": {
        "id": "iFOHUcZFyY91"
      },
      "source": [
        "---\n",
        "# **¿Cuál es la estructura de datos que mejor se adapta al problema? Argumenta la respuesta.**"
      ]
    },
    {
      "cell_type": "markdown",
      "metadata": {
        "id": "kAyvyLa5uREf"
      },
      "source": [
        "La estructura `List[List[int]]` es la más adecuada para este problema por las siguientes razones:\n",
        "- Representación natural del dominio:\n",
        "    - Se alinea directamente con el modelo conceptual: días que contienen tomas\n",
        "    - Facilita la comprensión y visualización del calendario resultante\n",
        "\n",
        "- Eficiencia en operaciones críticas:\n",
        "    - Cálculo de costo: Iteración eficiente día por día para contar actores únicos\n",
        "    - Generación de vecinos: Permite intercambios y traslados entre días de forma directa\n",
        "    - Las operaciones de inserción/eliminación en listas son eficientes para las modificaciones necesarias\n",
        "\n",
        "- Compatibilidad con búsqueda tabú:\n",
        "    - Facilita la generación de los dos tipos de movimientos (intercambios y traslados)\n",
        "    - Permite identificación única de movimientos para la lista tabú\n",
        "    - Soporte natural para restricciones como el límite de tomas por día\n",
        "\n",
        "- Ventajas sobre alternativas:\n",
        "    - Mejor para iteraciones secuenciales que estructuras como diccionarios\n",
        "    - Encapsula mejor la lógica temporal que una estructura plana\n",
        "\n",
        "Esta elección equilibra la representación lógica del problema, la facilidad de implementación y la eficiencia algorítmica necesaria para el método de búsqueda tabú."
      ]
    },
    {
      "cell_type": "markdown",
      "metadata": {
        "id": "6IVm00tw0nr6"
      },
      "source": [
        "---\n",
        "# **Calcula la complejidad del algoritmo**"
      ]
    },
    {
      "cell_type": "markdown",
      "metadata": {
        "id": "tcNxe12muREg"
      },
      "source": [
        "#### Variables principales\n",
        "\n",
        "- `(n)`: cantidad total de tomas (escenas)  \n",
        "- `(m)`: cantidad de actores  \n",
        "- `(k)`: máximo de tomas por día  \n",
        "- `(d)`: número de días (en general $d \\approx \\lceil n/k \\rceil$)\n",
        "- `(I)`: número máximo de iteraciones (`max_iter`)  \n",
        "- `(V)`: número de vecinos generados por iteración  \n",
        "\n",
        "\n",
        "#### 1. Costo por evaluación de una solución (calendario)\n",
        "\n",
        "La función `calcular_costo` recorre:\n",
        "\n",
        "- Cada día (hasta `(d)`)\n",
        "- Cada toma dentro del día (hasta `(k)`)\n",
        "- Cada actor dentro de la toma (hasta `(m)`)\n",
        "\n",
        "  Por lo tanto:\n",
        "\n",
        "$$\n",
        "\\text{Complejidad por evaluación} = O(d \\cdot k \\cdot m) = O(n \\cdot m)\n",
        "$$\n",
        "\n",
        "#### 2. Generación de vecinos\n",
        "\n",
        "La función `generar_vecinos` considera dos tipos de movimientos:\n",
        "\n",
        "- Intercambios entre tomas de diferentes días:  \n",
        "  Hasta $\\binom{d}{2} \\cdot k^2 = O(d^2 \\cdot k^2)$\n",
        "\n",
        "- Traslados de una toma de un día a otro (si el destino no excede `(k)`):  \n",
        "  Hasta $d \\cdot d \\cdot k = O(d^2 \\cdot k)$\n",
        "\n",
        "  Entonces:\n",
        "$$\n",
        "\\text{Complejidad total de generación de vecinos} = O(d^2 \\cdot k^2)\n",
        "$$\n",
        "\n",
        "#### 3. Evaluación de vecinos por iteración\n",
        "\n",
        "- Cada vecino se evalúa con la función de costo $O(n \\cdot m)$\n",
        "\n",
        "- Se generan hasta $V = O(d^2 \\cdot k^2)$ vecinos.\n",
        "\n",
        "  Entonces:\n",
        "\n",
        "$$\n",
        "\\text{Complejidad por iteración} = O(d^2 \\cdot k^2 \\cdot n \\cdot m)\n",
        "$$\n",
        "\n",
        "#### 4. Búsqueda Tabú completa\n",
        "\n",
        "- El bucle principal de la búsqueda tabú se ejecuta hasta `(I)` iteraciones:\n",
        "\n",
        "$$\n",
        "T(n, k, m, I) = O(I \\cdot d^2 \\cdot k^2 \\cdot n \\cdot m)\n",
        "$$\n",
        "\n",
        "- Dado que: $d \\approx \\frac{n}{k}$\n",
        "\n",
        "  Sustituimos:\n",
        "\n",
        "$$\n",
        "T(n, k, m, I) = O\\left(I \\cdot \\left(\\frac{n}{k}\\right)^2 \\cdot k^2 \\cdot n \\cdot m\\right) = O(I \\cdot n^3 \\cdot m)\n",
        "$$\n",
        "\n",
        "$$\n",
        "\\boxed{T(n, m, I) = O(I \\cdot n^3 \\cdot m)}\n",
        "$$"
      ]
    },
    {
      "cell_type": "markdown",
      "metadata": {
        "id": "xjdNpqAKK732"
      },
      "source": [
        "---\n",
        "# **Argumenta porque crees que mejora el algoritmo por fuerza bruta.**"
      ]
    },
    {
      "cell_type": "markdown",
      "metadata": {
        "id": "IjBABts6uREg"
      },
      "source": [
        "| Característica                | Fuerza bruta                                                                                      | Búsqueda Tabú                                                                                                                                         |\n",
        "|-------------------------------|---------------------------------------------------------------------------------------------------|-------------------------------------------------------------------------------------------------------------------------------------------------------|\n",
        "| Escalabilidad                 | Explota todas las soluciones posibles → crecimiento super‑exponencial                             | Explora solo un subconjunto guiado (vecindario local) → crecimiento polinómico                                                                        |\n",
        "| Control de tiempo de ejecución| No existe parámetro de parada: o termina tardísimo o no termina                                  | Se fija un máximo de iteraciones o presupuesto de tiempo, garantizando un resultado en un plazo predecible                                            |\n",
        "| Calidad de la solución        | Garantiza óptimo global, pero inalcanzable para tamaños moderados                                 | Heurística que logra soluciones de muy buena calidad en tiempos prácticos, gracias a la lista tabú (evita ciclos) y criterio de aspiración            |\n",
        "| Flexibilidad y adaptabilidad  | Difícil de extender con nuevas restricciones sin reescribir gran parte del enfoque                | Permite añadir restricciones (descansos, costes de cambio, etc.) y ajustar parámetros (tamaño de lista, iteraciones) sin cambiar la estructura básica |\n",
        "\n",
        "\n",
        "La búsqueda tabú ofrece un compromiso óptimo entre:\n",
        "- Tiempo de ejecución (polinómico y parametrizable)\n",
        "- Calidad de las soluciones (muy cerca del óptimo)\n",
        "- Flexibilidad para incluir nuevas restricciones\n"
      ]
    },
    {
      "cell_type": "markdown",
      "metadata": {
        "id": "Y_TOjf5u0tiK"
      },
      "source": [
        "---\n",
        "# Diseña un juego de datos de entrada aleatorio."
      ]
    },
    {
      "cell_type": "code",
      "execution_count": 11,
      "metadata": {
        "colab": {
          "base_uri": "https://localhost:8080/"
        },
        "id": "C9yojcop02mi",
        "outputId": "6f3e2539-3a5a-4cb0-8cc6-66a968876e59"
      },
      "outputs": [
        {
          "output_type": "stream",
          "name": "stdout",
          "text": [
            "Generando: 9 tomas, 7 actores\n",
            "matriz = [\n",
            "        [1, 0, 0, 1, 0, 0, 0],  # Toma 1\n",
            "        [1, 1, 1, 0, 0, 0, 0],  # Toma 2\n",
            "        [0, 1, 0, 1, 0, 1, 0],  # Toma 3\n",
            "        [1, 0, 1, 1, 1, 0, 0],  # Toma 4\n",
            "        [0, 1, 0, 0, 0, 0, 1],  # Toma 5\n",
            "        [0, 0, 0, 0, 0, 1, 1],  # Toma 6\n",
            "        [1, 0, 0, 0, 0, 1, 1],  # Toma 7\n",
            "        [1, 0, 1, 1, 0, 1, 1],  # Toma 8\n",
            "        [0, 1, 0, 0, 0, 0, 1],  # Toma 9\n",
            "]\n",
            "\n",
            "max_tomas_por_dia = 7\n",
            "\n",
            "Se necesitan 21137 iteraciones de fuerza bruta.\n"
          ]
        }
      ],
      "source": [
        "import random\n",
        "\n",
        "def generar_datos_aleatorios():\n",
        "    # Configuración aleatoria\n",
        "    tomas = random.randint(8, 12)\n",
        "    actores = random.randint(5, 10)\n",
        "    max_tomas_por_dia = random.randint(3, 10)\n",
        "\n",
        "    print(f\"Generando: {tomas} tomas, {actores} actores\")\n",
        "\n",
        "    # Generar matriz de actores\n",
        "    matriz = []\n",
        "    for i in range(tomas):\n",
        "        fila = [random.randint(0, 1) for _ in range(actores)]\n",
        "        # Asegurar que al menos un actor esté en cada toma\n",
        "        if sum(fila) == 0:\n",
        "            fila[random.randint(0, actores-1)] = 1\n",
        "        matriz.append(fila)\n",
        "\n",
        "    # Mostrar resultados\n",
        "    print(\"matriz = [\")\n",
        "    for i, fila in enumerate(matriz):\n",
        "        print(f\"        {fila},  # Toma {i+1}\")\n",
        "    print(\"]\")\n",
        "\n",
        "    print(f\"\\nmax_tomas_por_dia = {max_tomas_por_dia}\")\n",
        "\n",
        "    total_iteraciones = total_posibilidades_sin_orden(len(matriz), max_tomas_por_dia)\n",
        "    print(f\"\\nSe necesitan {total_iteraciones} iteraciones de fuerza bruta.\")\n",
        "\n",
        "    return matriz, max_tomas_por_dia\n",
        "\n",
        "matriz, max_tomas_por_dia = generar_datos_aleatorios()\n",
        "\n",
        "def generar_datos_y_ejecutar_ambos_algoritmos():\n",
        "    ejecutar_algoritmo_fuerza_bruta(matriz, max_tomas_por_dia)\n",
        "    ejecutar_busqueda_tabu(matriz, max_tomas_por_dia)"
      ]
    },
    {
      "cell_type": "markdown",
      "metadata": {
        "id": "vNTXdJj_1RCp"
      },
      "source": [
        "---\n",
        "# Aplica el algoritmo al juego de datos aleatorio generado."
      ]
    },
    {
      "cell_type": "code",
      "execution_count": 12,
      "metadata": {
        "colab": {
          "base_uri": "https://localhost:8080/"
        },
        "id": "oTXQFRy51Zqa",
        "outputId": "4cb487f1-b5cf-4fcf-a757-2a80ae219156"
      },
      "outputs": [
        {
          "output_type": "stream",
          "name": "stdout",
          "text": [
            "============================================================\n",
            "ORGANIZAR SESIONES DE DOBLAJE - FUERZA BRUTA\n",
            "============================================================\n",
            "\n",
            "Se realizarán 21137 iteraciones.\n",
            "\n",
            "Generando todas las particiones posibles...\n",
            "Nueva mejor solucion encontrada - Costo: 13, Dias: 2, Partición: [[0, 1, 2, 3, 4, 5, 6], [7, 8]]\n",
            "Nueva mejor solucion encontrada - Costo: 11, Dias: 2, Partición: [[0, 1, 2, 3, 4, 5, 7], [6, 8]]\n",
            "Nueva mejor solucion encontrada - Costo: 10, Dias: 2, Partición: [[0, 1, 2, 3, 4, 6, 7], [5, 8]]\n",
            "Nueva mejor solucion encontrada - Costo: 9, Dias: 2, Partición: [[0, 1, 2, 3, 5, 6, 7], [4, 8]]\n",
            "Iteracion: 10000, Mejor costo: 9, Particion actual: [[0, 6, 7], [1, 2, 5, 8], [3], [4]]\n",
            "Iteracion: 20000, Mejor costo: 9, Particion actual: [[0], [1, 5, 8], [2], [3, 7], [4, 6]]\n",
            "Iteraciones Totales: 21137, Mejor costo: 9\n",
            "Tiempo: 0.36 segundos\n",
            "\n",
            "=== PLANIFICACION OPTIMA DE SESIONES DE DOBLAJE POR FUERZA BRUTA ===\n",
            "\n",
            "DIA 1:\n",
            "Tomas: [1, 2, 3, 4, 6, 7, 8]\n",
            "Actores necesarios: [1, 2, 3, 4, 5, 6, 7]\n",
            "Costo del dia: 7\n",
            "\n",
            "DIA 2:\n",
            "Tomas: [5, 9]\n",
            "Actores necesarios: [2, 7]\n",
            "Costo del dia: 2\n",
            "\n",
            "COSTO TOTAL: 9\n",
            "DIAS TOTALES: 2\n",
            "\n",
            "============================================================\n",
            "ORGANIZAR SESIONES DE DOBLAJE - BUSQUEDA TABU\n",
            "============================================================\n",
            "\n",
            "Generando todas las particiones posibles...\n",
            "Nueva mejor solucion encontrada - Costo: 13, Dias: 2\n",
            "Nueva mejor solucion encontrada - Costo: 9, Dias: 2, Partición: [[0, 1, 2, 3, 5, 6, 7], [8, 4]]\n",
            "Tiempo: 0.07 segundos\n",
            "\n",
            "=== PLANIFICACION OPTIMA DE SESIONES DE DOBLAJE POR BUSQUEDA TABU ===\n",
            "\n",
            "DIA 1:\n",
            "  Tomas: [1, 2, 3, 4, 6, 7, 8]\n",
            "  Actores necesarios: [1, 2, 3, 4, 5, 6, 7]\n",
            "  Costo del dia: 7\n",
            "\n",
            "DIA 2:\n",
            "  Tomas: [5, 9]\n",
            "  Actores necesarios: [2, 7]\n",
            "  Costo del dia: 2\n",
            "\n",
            "COSTO TOTAL: 9\n",
            "DIAS TOTALES: 2\n"
          ]
        }
      ],
      "source": [
        "generar_datos_y_ejecutar_ambos_algoritmos()"
      ]
    },
    {
      "cell_type": "markdown",
      "metadata": {
        "id": "aV1GvM2P1j16"
      },
      "source": [
        "---\n",
        "# Describe brevemente en unas líneas como crees que es posible avanzar en el estudio del problema. Ten en cuenta incluso posibles variaciones del problema y/o variaciones al alza del tamaño."
      ]
    },
    {
      "cell_type": "markdown",
      "metadata": {
        "id": "A_-04qkJn9yi"
      },
      "source": [
        "\n",
        "## 1. Algoritmos híbridos y paralelos\n",
        "- Búsqueda Tabú + Algoritmos Genéticos: Usar poblaciones de soluciones con operadores genéticos optimizados\n",
        "- Paralelización: Evaluar múltiples vecindarios simultáneamente, especialmente crítico para instancias grandes (100+ tomas)\n",
        "- Machine Learning: Entrenar modelos para predecir movimientos prometedores y reducir espacio de búsqueda\n",
        "\n",
        "## 2. Variaciones realistas del problema\n",
        "- Costos diferenciados: Actores con tarifas variables, penalizaciones por días no consecutivos\n",
        "- Restricciones temporales: Disponibilidad limitada de actores, fechas de entrega\n",
        "- Calidad de grabación: Minimizar cambios de configuración técnica entre tomas\n",
        "- Recursos limitados: Estudios múltiples, equipos técnicos especializados\n",
        "\n",
        "## 3. Problemas relacionados\n",
        "- Scheduling cinematográfico: Locaciones, clima, disponibilidad de equipos\n",
        "- Planificación de conciertos: Músicos, instrumentos, repertorio\n",
        "- Organización de conferencias: Ponentes, salas, audiencias específicas\n",
        "\n",
        "## 4. Métricas avanzadas\n",
        "- Análisis de robustez: Sensibilidad ante cambios de última hora\n",
        "- Equidad: Distribución balanceada de carga de trabajo entre actores\n",
        "- Sostenibilidad: Minimizar desplazamientos y impacto ambiental"
      ]
    },
    {
      "cell_type": "markdown",
      "metadata": {
        "id": "sqIUyamQxQ9M"
      },
      "source": [
        "---\n",
        "# Bibliografía utilizada"
      ]
    },
    {
      "cell_type": "markdown",
      "metadata": {
        "id": "QN1vixGlxVvM"
      },
      "source": [
        "- CALDAS LIMA, Alberto. Aplicación de algoritmos heurísticos para optimizar el coste de doblaje de películas. A Coruña, 2014. Proyecto fin de máster. Universidad de A Coruña. Directores: Silvia María Lorenzo Freire, María Luisa Carpente Rodríguez. [En línea]. Disponible en: http://eio.usc.es/pub/mte/descargas/ProyectosFinMaster/Proyecto_759.pdf"
      ]
    }
  ],
  "metadata": {
    "colab": {
      "provenance": [],
      "include_colab_link": true
    },
    "kernelspec": {
      "display_name": "Python 3",
      "name": "python3"
    },
    "language_info": {
      "codemirror_mode": {
        "name": "ipython",
        "version": 3
      },
      "file_extension": ".py",
      "mimetype": "text/x-python",
      "name": "python",
      "nbconvert_exporter": "python",
      "pygments_lexer": "ipython3",
      "version": "3.13.1"
    }
  },
  "nbformat": 4,
  "nbformat_minor": 0
}